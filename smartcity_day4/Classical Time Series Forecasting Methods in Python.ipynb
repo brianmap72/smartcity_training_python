{
 "cells": [
  {
   "cell_type": "markdown",
   "metadata": {},
   "source": [
    "\n",
    "- Autoregression (AR)\n",
    "- Moving Average (MA)\n",
    "- Autoregressive Moving Average (ARMA)\n",
    "- Autoregressive Integrated Moving Average (ARIMA)\n",
    "- Seasonal Autoregressive Integrated Moving-Average (SARIMA)\n",
    "- Seasonal Autoregressive Integrated Moving-Average with Exogenous Regressors (SARIMAX)\n",
    "- Vector Autoregression (VAR)\n",
    "- Vector Autoregression Moving-Average (VARMA)\n",
    "- Vector Autoregression Moving-Average with Exogenous Regressors (VARMAX)\n",
    "- Simple Exponential Smoothing (SES)\n",
    "- Holt Winter’s Exponential Smoothing (HWES)\n"
   ]
  },
  {
   "cell_type": "markdown",
   "metadata": {},
   "source": [
    "\n",
    "## Autoregression (AR)\n",
    "\n",
    "The autoregression (AR) method models the next step in the sequence as a linear function of the observations at prior time steps.\n",
    "\n",
    "The notation for the model involves specifying the order of the model p as a parameter to the AR function, e.g. AR(p). For example, AR(1) is a first-order autoregression model.\n",
    "\n",
    "The method is suitable for univariate time series without trend and seasonal components.\n",
    "\n",
    "https://otexts.com/fpp2/AR.html\n"
   ]
  },
  {
   "cell_type": "code",
   "execution_count": 3,
   "metadata": {},
   "outputs": [
    {
     "name": "stdout",
     "output_type": "stream",
     "text": [
      "[1.588385060480073, 2.1094606935962843, 3.711675795935854, 4.7051222168757425, 5.190774063428789, 6.3208176430876755, 7.66125035441305, 8.709707011490023, 9.391023095162094, 10.072634850734044, 11.443694693641499, 12.174137369828449, 13.822834093696283, 14.328427102970592, 15.483277049201341, 16.773227744619895, 17.03412299873608, 18.920070356500187, 19.91478722377724, 20.65109935876792, 21.919794104169764, 22.058472318674703, 23.1169400268189, 24.77400753652101, 25.03429740201579, 26.65354171780052, 27.10115385203375, 28.89850287694405, 29.962331422137165, 30.9418283469896, 31.615823566673967, 32.3614065690525, 33.48754294838964, 34.355110078065096, 35.162517243152834, 36.47125261949466, 37.52389855340011, 38.25771945017694, 39.06163457738444, 40.412706500107284, 41.41237042643704, 42.82734189461115, 43.77772874505718, 44.26899800078238, 45.11364241930262, 46.99680969352866, 47.150758921308224, 48.66596729342754, 49.21939185685246, 50.55463910149254, 51.21306389573034, 52.761088850237535, 53.41956736269993, 54.102252856323915, 55.78928874077976, 56.68671001982688, 57.79959356572021, 58.50728476085764, 59.519838423775624, 60.939642359196476, 61.31340177625318, 62.05099250235688, 63.14727394541754, 64.22365431790146, 65.59204750380212, 66.76988478461924, 67.28575444627599, 68.65423488771498, 69.03352260001229, 70.0848778737425, 71.58618325193385, 72.25967680010386, 73.90116664128988, 74.71743175552521, 75.82372965511017, 76.17612269382228, 77.77159144389529, 78.12327966839108, 79.99476162242065, 80.86904142159851, 81.02388655752951, 82.45916106115713, 83.83503358295253, 84.35404736638623, 85.70945588103302, 86.65893240888975, 87.60302390194863, 88.7760649836263, 89.9977990741415, 90.01185978606051, 91.67131282529041, 92.37523066613943, 93.98319723903573, 94.95416298608899, 95.26915750468885, 96.96826076953005, 97.99799454050654, 98.08829351928622, 99.18797076838446]\n",
      "[100.41932897 101.61968582 102.79726262 103.58701111 104.44176535\n",
      " 105.81254743 106.67013637 107.42816675 108.55846943 109.52965631\n",
      " 110.53641524]\n"
     ]
    }
   ],
   "source": [
    "\n",
    "# AR example\n",
    "from statsmodels.tsa.ar_model import AR\n",
    "from random import random\n",
    "# contrived dataset\n",
    "data = [x + random() for x in range(1, 100)]  #random() produces 0 to 1 number\n",
    "print(data)\n",
    "\n",
    "# fit model\n",
    "model = AR(data)\n",
    "model_fit = model.fit()\n",
    "\n",
    "# make prediction\n",
    "yhat = model_fit.predict(len(data), len(data)+10) #predict(params[, start, end, dynamic])\n",
    "\n",
    "print(yhat)\n"
   ]
  },
  {
   "cell_type": "code",
   "execution_count": 20,
   "metadata": {},
   "outputs": [
    {
     "data": {
      "image/png": "[encoded data removed]",
      "text/plain": [
       "<Figure size 432x288 with 1 Axes>"
      ]
     },
     "metadata": {
      "needs_background": "light"
     },
     "output_type": "display_data"
    }
   ],
   "source": [
    "import matplotlib.pyplot as plt\n",
    "import numpy as np\n",
    "import pandas as pd\n",
    "\n",
    "df = pd.DataFrame({\"y\" : data})\n",
    "df1 = pd.DataFrame({\"y\" : yhat})\n",
    "\n",
    "df2 = df.append(df1, ignore_index = True) \n",
    "\n",
    "ax = df2.iloc[:97,:].plot(ls=\"-\", color=\"b\")\n",
    "df2.iloc[98:,:].plot(ls=\"--\", color=\"r\", ax=ax)\n",
    "\n",
    "ax.legend(loc='lower right', bbox_to_anchor=(0.6,0.5))\n",
    "plt.show()"
   ]
  },
  {
   "cell_type": "markdown",
   "metadata": {},
   "source": [
    "## Autoregressive Moving Average (ARMA)\n",
    "\n",
    "The Autoregressive Moving Average (ARMA) method models the next step in the sequence as a linear function of the observations and resiudal errors at prior time steps.\n",
    "\n",
    "It combines both Autoregression (AR) and Moving Average (MA) models.\n",
    "\n",
    "The notation for the model involves specifying the order for the AR(p) and MA(q) models as parameters to an ARMA function, e.g. ARMA(p, q). An ARIMA model can be used to develop AR or MA models.\n",
    "\n",
    "The method is suitable for univariate time series without trend and seasonal components."
   ]
  },
  {
   "cell_type": "code",
   "execution_count": 22,
   "metadata": {},
   "outputs": [
    {
     "name": "stdout",
     "output_type": "stream",
     "text": [
      "[0.53069371 0.4494257  0.48243237 0.46912004 0.47451591 0.47233652\n",
      " 0.47321899 0.4728623  0.47300666 0.47294829 0.47297191]\n"
     ]
    }
   ],
   "source": [
    "# ARMA example\n",
    "from statsmodels.tsa.arima_model import ARMA\n",
    "from random import random\n",
    "# contrived dataset\n",
    "data = [random() for x in range(1, 100)]\n",
    "\n",
    "# fit model\n",
    "model = ARMA(data, order=(2, 1))\n",
    "model_fit = model.fit(disp=False)\n",
    "# make prediction\n",
    "yhat = model_fit.predict(len(data), len(data)+10)\n",
    "print(yhat)"
   ]
  },
  {
   "cell_type": "markdown",
   "metadata": {},
   "source": [
    "## Autoregressive Integrated Moving Average (ARIMA)\n",
    "\n",
    "The Autoregressive Integrated Moving Average (ARIMA) method models the next step in the sequence as a linear function of the differenced observations and residual errors at prior time steps.\n",
    "\n",
    "It combines both Autoregression (AR) and Moving Average (MA) models as well as a differencing pre-processing step of the sequence to make the sequence stationary, called integration (I).\n",
    "\n",
    "The notation for the model involves specifying the order for the AR(p), I(d), and MA(q) models as parameters to an ARIMA function, e.g. ARIMA(p, d, q). An ARIMA model can also be used to develop AR, MA, and ARMA models.\n",
    "\n",
    "The method is suitable for univariate time series with trend and without seasonal components"
   ]
  },
  {
   "cell_type": "code",
   "execution_count": 4,
   "metadata": {},
   "outputs": [
    {
     "name": "stdout",
     "output_type": "stream",
     "text": [
      "[0.53228207 0.52127343 0.52164969 0.52148063 0.5213377  0.52119351\n",
      " 0.52104938 0.52090525 0.52076112 0.52061699 0.52047286]\n"
     ]
    }
   ],
   "source": [
    "\n",
    "# ARIMA example\n",
    "from statsmodels.tsa.arima_model import ARIMA\n",
    "from random import random\n",
    "\n",
    "# contrived dataset\n",
    "data = [random() for x in range(1, 100)]\n",
    "\n",
    "# fit model\n",
    "model = ARIMA(data, order=(1, 1, 1))\n",
    "model_fit = model.fit(disp=False)\n",
    "\n",
    "# make prediction\n",
    "yhat = model_fit.predict(len(data), len(data)+10, typ='levels')\n",
    "print(yhat)\n"
   ]
  },
  {
   "cell_type": "markdown",
   "metadata": {},
   "source": [
    "## Simple Exponential Smoothing (SES)\n",
    "\n",
    "The Simple Exponential Smoothing (SES) method models the next time step as an exponentially weighted linear function of observations at prior time steps.\n",
    "\n",
    "```{ s_{t}=\\alpha . x_{t-1}+(1-alpha ). s_{t-1}  =   s_{t-1}+\\alpha . (x_{t-1}-s_{t-1})}```\n",
    "\n",
    "The method is suitable for univariate time series without trend and seasonal components."
   ]
  },
  {
   "cell_type": "code",
   "execution_count": 26,
   "metadata": {},
   "outputs": [
    {
     "name": "stdout",
     "output_type": "stream",
     "text": [
      "[99.64284686 99.64284686 99.64284686 99.64284686 99.64284686 99.64284686\n",
      " 99.64284686 99.64284686 99.64284686 99.64284686 99.64284686]\n"
     ]
    }
   ],
   "source": [
    "# SES example\n",
    "from statsmodels.tsa.holtwinters import SimpleExpSmoothing\n",
    "from random import random\n",
    "\n",
    "# contrived dataset\n",
    "data = [x + random() for x in range(1, 100)]\n",
    "\n",
    "# fit model\n",
    "model = SimpleExpSmoothing(data)\n",
    "model_fit = model.fit()\n",
    "\n",
    "# make prediction\n",
    "yhat = model_fit.predict(len(data), len(data)+10)\n",
    "print(yhat)"
   ]
  },
  {
   "cell_type": "code",
   "execution_count": null,
   "metadata": {},
   "outputs": [],
   "source": []
  }
 ],
 "metadata": {
  "kernelspec": {
   "display_name": "Python 3",
   "language": "python",
   "name": "python3"
  },
  "language_info": {
   "codemirror_mode": {
    "name": "ipython",
    "version": 3
   },
   "file_extension": ".py",
   "mimetype": "text/x-python",
   "name": "python",
   "nbconvert_exporter": "python",
   "pygments_lexer": "ipython3",
   "version": "3.6.8"
  }
 },
 "nbformat": 4,
 "nbformat_minor": 2
}
