{
 "cells": [
  {
   "cell_type": "code",
   "execution_count": 5,
   "metadata": {},
   "outputs": [],
   "source": [
    "import json\n",
    "\n",
    "person_dict = {\"name\": \"Bob\",\n",
    "\"languages\": [\"English\", \"Fench\"],\n",
    "\"married\": True,\n",
    "\"age\": 32\n",
    "}\n",
    "\n",
    "person_json = json.dumps(person_dict)\n",
    "\n",
    "\n",
    "with open('person.txt', 'w') as json_file:\n",
    "  json.dump(person_json, json_file)"
   ]
  },
  {
   "cell_type": "code",
   "execution_count": null,
   "metadata": {},
   "outputs": [],
   "source": [
    "# json loads -> returns an object from a string representing a json object.\n",
    "\n",
    "# json dumps -> returns a string representing a json object from an object.\n",
    "\n",
    "# load and dump -> read/write from/to file instead of string"
   ]
  }
 ],
 "metadata": {
  "kernelspec": {
   "display_name": "Python 3",
   "language": "python",
   "name": "python3"
  },
  "language_info": {
   "codemirror_mode": {
    "name": "ipython",
    "version": 3
   },
   "file_extension": ".py",
   "mimetype": "text/x-python",
   "name": "python",
   "nbconvert_exporter": "python",
   "pygments_lexer": "ipython3",
   "version": "3.6.8"
  }
 },
 "nbformat": 4,
 "nbformat_minor": 2
}
