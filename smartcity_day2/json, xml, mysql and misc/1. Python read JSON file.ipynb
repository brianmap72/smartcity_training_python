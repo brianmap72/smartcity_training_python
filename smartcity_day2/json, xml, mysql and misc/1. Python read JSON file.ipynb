{
 "cells": [
  {
   "cell_type": "code",
   "execution_count": 1,
   "metadata": {},
   "outputs": [
    {
     "name": "stdout",
     "output_type": "stream",
     "text": [
      "{'name': 'Bob', 'languages': ['English', 'Fench']}\n"
     ]
    }
   ],
   "source": [
    "import json\n",
    "with open('person.json') as f:\n",
    "    data = json.load(f)\n",
    "\n",
    "# Output: {'name': 'Bob', 'languages': ['English', 'Fench']}\n",
    "print(data)"
   ]
  },
  {
   "cell_type": "markdown",
   "metadata": {},
   "source": [
    "## What does JSON stand for?\n",
    "\n",
    "JavaScript Object Notation"
   ]
  },
  {
   "cell_type": "markdown",
   "metadata": {},
   "source": [
    "## what does that mean?\n",
    "\n",
    "JSON is a syntax for passing around objects that contain name/value pairs, arrays and other objects. As you can see, JSON is a data format that consists of name/value pairs (AKA key/value pairs) in the form of strings. The name/value pairs are separated by a colon and each pair is separated by a comma. \n",
    "\n",
    "Here's a tiny scrap of JSON:\n",
    "\n",
    "```{\"skillz\": {\n",
    "\t\"web\":[\n",
    "\t\t{\"name\": \"html\", \n",
    "\t\t \"years\": \"5\"\n",
    "\t\t},\n",
    "\t\t{\"name\": \"css\", \n",
    "\t\t \"years\": \"3\"\n",
    "\t\t}],\n",
    "\t\"database\":[\n",
    "\t\t{\"name\": \"sql\", \n",
    "\t\t \"years\": \"7\"\n",
    "\t\t}]\n",
    "}}```"
   ]
  },
  {
   "cell_type": "markdown",
   "metadata": {},
   "source": [
    "## Curve brackets, Squares, Colons and Commas\n",
    "\n",
    "- Curve brackets act as 'containers'\n",
    "- Square brackets holds arrays\n",
    "- Key and values are separated by a colon.\n",
    "- Array elements are separated by commas"
   ]
  },
  {
   "cell_type": "markdown",
   "metadata": {},
   "source": [
    "## Valid JSON\n",
    "```{\n",
    "  \"species\": \"Dog\",\n",
    "  \"breed\": \"Labrador Retriever\",\n",
    "  \"age\": 6,\n",
    "  \"traits\": {\n",
    "    \"eyeColor\": \"brown\",\n",
    "    \"coatColor\": \"yellow\",\n",
    "    \"weight\": \"137lbs\"\n",
    "  }\n",
    "}```\n",
    "\n",
    "Here the root JSON object has four key/value pairs (“species”, “breed”, “age”, and “traits”); but the fourth value (“traits”) has three more key/value pairs nested as a single value (this is an example of the object value type). And as you probably guessed, you can nest objects like this infinitely. Of course, you should only do this to a reasonable degree."
   ]
  },
  {
   "cell_type": "code",
   "execution_count": null,
   "metadata": {},
   "outputs": [],
   "source": []
  }
 ],
 "metadata": {
  "kernelspec": {
   "display_name": "Python 3",
   "language": "python",
   "name": "python3"
  },
  "language_info": {
   "codemirror_mode": {
    "name": "ipython",
    "version": 3
   },
   "file_extension": ".py",
   "mimetype": "text/x-python",
   "name": "python",
   "nbconvert_exporter": "python",
   "pygments_lexer": "ipython3",
   "version": "3.6.8"
  }
 },
 "nbformat": 4,
 "nbformat_minor": 2
}
