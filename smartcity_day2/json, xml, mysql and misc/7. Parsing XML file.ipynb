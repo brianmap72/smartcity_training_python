{
 "cells": [
  {
   "cell_type": "code",
   "execution_count": 15,
   "metadata": {},
   "outputs": [],
   "source": [
    "#Python code to illustrate parsing of XML files \n",
    "# importing the required modules \n",
    "import csv \n",
    "import requests \n",
    "import xml.etree.ElementTree as ET \n",
    "  \n",
    "# url of rss feed \n",
    "url = 'http://www.hindustantimes.com/rss/topnews/rssfeed.xml'\n",
    "  \n",
    "# creating HTTP response object from given url \n",
    "resp = requests.get(url) \n",
    "  \n",
    "# saving the xml file \n",
    "with open('topnewsfeed.xml', 'wb') as f: \n",
    "    f.write(resp.content) \n",
    "          \n",
    "# create element tree object \n",
    "tree = ET.parse(\"topnewsfeed.xml\") \n",
    "  \n",
    "# get root element \n",
    "root = tree.getroot() \n",
    "\n",
    "# create empty list for news items \n",
    "newsitems = [] \n",
    "  \n",
    "# iterate news items \n",
    "for item in root.findall('./channel/item'): \n",
    "  \n",
    "    # empty news dictionary \n",
    "    news = {} \n",
    "  \n",
    "    # iterate child elements of item \n",
    "    for child in item: \n",
    "  \n",
    "        # special checking for namespace object content:media \n",
    "        if child.tag == '{http://search.yahoo.com/mrss/}content': \n",
    "            news['media'] = child.attrib['url'] \n",
    "  \n",
    "    # append news dictionary to news items list \n",
    "    newsitems.append(news)  \n",
    "\n",
    "  \n",
    "\n",
    "\n",
    "      "
   ]
  },
  {
   "cell_type": "code",
   "execution_count": 16,
   "metadata": {},
   "outputs": [
    {
     "name": "stdout",
     "output_type": "stream",
     "text": [
      "[{'media': 'https://www.hindustantimes.com/rf/image_size_630x354/HT/p2/2019/08/08/Pictures/_7320c9f2-ba0a-11e9-a203-e6c4ad816de5.jpg'}, {'media': 'https://www.hindustantimes.com/rf/image_size_630x354/HT/p2/2019/08/08/Pictures/_ed94a636-b9ec-11e9-a203-e6c4ad816de5.png'}, {'media': 'https://www.hindustantimes.com/rf/image_size_630x354/HT/p2/2019/08/08/Pictures/station-samjhauta-pakistani-passengers-railway-express-attari_63b0aae0-ba06-11e9-a203-e6c4ad816de5.jpg'}, {'media': 'https://www.hindustantimes.com/rf/image_size_630x354/HT/p2/2019/08/08/Pictures/_5495966a-b9fc-11e9-a203-e6c4ad816de5.png'}, {'media': 'https://www.hindustantimes.com/rf/image_size_630x354/HT/p2/2019/08/08/Pictures/_84901c28-b9e3-11e9-a203-e6c4ad816de5.jpg'}, {'media': 'https://www.hindustantimes.com/rf/image_size_630x354/HT/p2/2019/08/08/Pictures/_01df0890-b9e6-11e9-98cb-e738ad509720.png'}, {'media': 'https://www.hindustantimes.com/rf/image_size_630x354/HT/p2/2019/08/08/Pictures/atomic-bomb-dome_e5383fce-b9d9-11e9-8601-ae4f2ce17a49.jpg'}, {'media': 'https://www.hindustantimes.com/rf/image_size_630x354/HT/p2/2019/08/08/Pictures/pranab-mukherjee-receives-bharat-ratna_866ec12e-b9df-11e9-98cb-e738ad509720.jpg'}, {'media': 'https://www.hindustantimes.com/rf/image_size_630x354/HT/p2/2019/08/08/Pictures/_9527f250-b9a1-11e9-8601-ae4f2ce17a49.JPG'}, {'media': 'https://www.hindustantimes.com/rf/image_size_630x354/HT/p2/2019/08/08/Pictures/india-kashmir_c32c470e-b989-11e9-8601-ae4f2ce17a49.jpg'}, {'media': 'https://www.hindustantimes.com/rf/image_size_630x354/HT/p2/2019/08/07/Pictures/sushma-swaraj-passes-away_12f34baa-b8dd-11e9-8601-ae4f2ce17a49.jpg'}, {'media': 'https://www.hindustantimes.com/rf/image_size_630x354/HT/p2/2019/08/07/Pictures/file-photo-photo-mint-aniruddha-chowdhury-mumbai_4164c872-b8da-11e9-8601-ae4f2ce17a49.jpg'}, {'media': 'https://www.hindustantimes.com/rf/image_size_630x354/HT/p2/2019/08/06/Pictures/dominion-prime-minister-sardar-vallabhai-patel-deputy_932be9fc-b857-11e9-8601-ae4f2ce17a49.jpg'}, {'media': 'https://www.hindustantimes.com/rf/image_size_630x354/HT/p2/2019/08/05/Pictures/restrictions-night-curfews-imposed-in-several-parts_af7add50-b76e-11e9-98cb-e738ad509720.jpg'}, {'media': 'https://www.hindustantimes.com/rf/image_size_630x354/HT/p2/2019/08/05/Pictures/statue-celebrates-supporter-put-tilak-modi-the_315dbc7a-b797-11e9-8601-ae4f2ce17a49.jpg'}]\n"
     ]
    }
   ],
   "source": [
    "print(newsitems)  \n",
    "\n"
   ]
  },
  {
   "cell_type": "code",
   "execution_count": null,
   "metadata": {},
   "outputs": [],
   "source": []
  }
 ],
 "metadata": {
  "kernelspec": {
   "display_name": "Python 3",
   "language": "python",
   "name": "python3"
  },
  "language_info": {
   "codemirror_mode": {
    "name": "ipython",
    "version": 3
   },
   "file_extension": ".py",
   "mimetype": "text/x-python",
   "name": "python",
   "nbconvert_exporter": "python",
   "pygments_lexer": "ipython3",
   "version": "3.6.8"
  }
 },
 "nbformat": 4,
 "nbformat_minor": 2
}
