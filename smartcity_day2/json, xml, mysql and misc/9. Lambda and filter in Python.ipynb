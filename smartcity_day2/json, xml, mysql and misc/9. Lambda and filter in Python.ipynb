{
 "cells": [
  {
   "cell_type": "markdown",
   "metadata": {},
   "source": [
    "#### Given a list of numbers, find all numbers divisible by 13.\n",
    "\n",
    "Input : my_list = [12, 65, 54, 39, 102, \n",
    "                     339, 221, 50, 70]\n",
    "                     \n",
    "Output : [65, 39, 221]\n",
    "\n",
    "We can use Lambda function inside the filter() built-in function to find all the numbers divisible by 13 in the list. In Python, anonymous function means that a function is without a name.\n",
    "\n",
    "The filter() function in Python takes in a function and a list as arguments. This offers an elegant way to filter out all the elements of a sequence “sequence”, for which the function returns True."
   ]
  },
  {
   "cell_type": "code",
   "execution_count": 4,
   "metadata": {},
   "outputs": [
    {
     "name": "stdout",
     "output_type": "stream",
     "text": [
      "[65, 39, 221]\n"
     ]
    }
   ],
   "source": [
    "# Python Program to find numbers divisible  \n",
    "# by thirteen from a list using anonymous  \n",
    "# function \n",
    "  \n",
    "## The function filter(function, list) offers an elegant way to filter out all the elements of a list, \n",
    "## for which the function returns True. \n",
    "    \n",
    "    \n",
    "# Take a list of numbers.  \n",
    "my_list = [12, 65, 54, 39, 102, 339, 221, 50, 70, ] \n",
    "  \n",
    "# use anonymous function to filter and comparing  \n",
    "# if divisible or not \n",
    "result = list(filter(lambda x: (x % 13 == 0), my_list))  \n",
    "  \n",
    "# printing the result \n",
    "print(result)  "
   ]
  },
  {
   "cell_type": "code",
   "execution_count": 5,
   "metadata": {},
   "outputs": [
    {
     "name": "stdout",
     "output_type": "stream",
     "text": [
      "['geeg', 'keek', 'aa']\n"
     ]
    }
   ],
   "source": [
    "# Python Program to find palindromes in  \n",
    "# a list of strings. \n",
    "  \n",
    "my_list = [\"geeks\", \"geeg\", \"keek\", \"practice\", \"aa\"] \n",
    "  \n",
    "# use anonymous function to filter palindromes. \n",
    "# Please refer below article for details of reversed \n",
    "# https://www.geeksforgeeks.org/reverse-string-python-5-different-ways/ \n",
    "result = list(filter(lambda x: (x == \"\".join(reversed(x))), my_list))  \n",
    "  \n",
    "# printing the result \n",
    "print(result)  "
   ]
  },
  {
   "cell_type": "code",
   "execution_count": 7,
   "metadata": {},
   "outputs": [
    {
     "name": "stdout",
     "output_type": "stream",
     "text": [
      "['geeks', 'keegs']\n"
     ]
    }
   ],
   "source": [
    "# Python Program to find all anagrams of str in  \n",
    "# a list of strings. \n",
    "from collections import Counter \n",
    "  \n",
    "my_list = [\"geeks\", \"geeg\", \"keegs\", \"practice\", \"aa\"] \n",
    "str = \"eegsk\"\n",
    "  \n",
    "# use anonymous function to filter anagrams of x. \n",
    "# Please refer below article for details of reversed \n",
    "# https://www.geeksforgeeks.org/anagram-checking-python-collections-counter/ \n",
    "result = list(filter(lambda x: (Counter(str) == Counter(x)), my_list))  \n",
    "  \n",
    "# printing the result \n",
    "print(result)  "
   ]
  },
  {
   "cell_type": "code",
   "execution_count": null,
   "metadata": {},
   "outputs": [],
   "source": []
  }
 ],
 "metadata": {
  "kernelspec": {
   "display_name": "Python 3",
   "language": "python",
   "name": "python3"
  },
  "language_info": {
   "codemirror_mode": {
    "name": "ipython",
    "version": 3
   },
   "file_extension": ".py",
   "mimetype": "text/x-python",
   "name": "python",
   "nbconvert_exporter": "python",
   "pygments_lexer": "ipython3",
   "version": "3.6.8"
  }
 },
 "nbformat": 4,
 "nbformat_minor": 2
}
