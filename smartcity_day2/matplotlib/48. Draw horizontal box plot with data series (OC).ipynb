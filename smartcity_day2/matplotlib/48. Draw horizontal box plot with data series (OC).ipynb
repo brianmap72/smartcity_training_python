{
 "cells": [
  {
   "cell_type": "code",
   "execution_count": 2,
   "metadata": {},
   "outputs": [
    {
     "data": {
      "image/png": "[encoded data removed]",
      "text/plain": [
       "<Figure size 700x300 with 1 Axes>"
      ]
     },
     "metadata": {
      "needs_background": "light"
     },
     "output_type": "display_data"
    }
   ],
   "source": [
    "import matplotlib.pyplot as plt\n",
    " \n",
    "data = [-12, 15, 13, -20, 19, 20, 11, 19, -11, 12, 19, 10, \n",
    "                    12, 10, 6, 19, 3, 1, 1, 0, 4, 49, 6, 5, 3, 7, \n",
    "                    12, 77, 9, 8, 12, 11, 11, 18, 19, 18, 19, 3, 6, \n",
    "                    5, 6, 9, 11, 10, 18, 14, 16, 17, 17, 19, 0, 2, \n",
    "                    0, 3, 1, 4, 6, 6, 8, 7, 7, 69, 79, 11, 11, 10, \n",
    "                    11, 10, 13, 13, 15, 18, 20, 19, 1, 11, 8, 16, \n",
    "                    19, 89, 17, 16, 11, 1, 110, 13, 15, 3, 8, 6, 99, \n",
    "                    10, 15, 19, 2, 4, 5, 6, 9, 11, 10, 9, 10, 99, \n",
    "                    15, 16, 18, 13]\n",
    " \n",
    "fig = plt.figure(figsize=(7, 3), dpi=100)\n",
    "ax = plt.subplot(2, 1,2)\n",
    " \n",
    "ax.boxplot(data, False, sym='rs', vert=False, whis=0.75, positions=[0], widths=[0.5])\n",
    " \n",
    "plt.tight_layout()\n",
    "plt.show()"
   ]
  },
  {
   "cell_type": "code",
   "execution_count": null,
   "metadata": {},
   "outputs": [],
   "source": []
  },
  {
   "cell_type": "code",
   "execution_count": null,
   "metadata": {},
   "outputs": [],
   "source": []
  }
 ],
 "metadata": {
  "kernelspec": {
   "display_name": "Python 3",
   "language": "python",
   "name": "python3"
  },
  "language_info": {
   "codemirror_mode": {
    "name": "ipython",
    "version": 3
   },
   "file_extension": ".py",
   "mimetype": "text/x-python",
   "name": "python",
   "nbconvert_exporter": "python",
   "pygments_lexer": "ipython3",
   "version": "3.6.8"
  }
 },
 "nbformat": 4,
 "nbformat_minor": 2
}
