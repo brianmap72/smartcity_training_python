{
 "cells": [
  {
   "cell_type": "code",
   "execution_count": 4,
   "metadata": {},
   "outputs": [
    {
     "name": "stdout",
     "output_type": "stream",
     "text": [
      "           A         B         C         D\n",
      "0   0.746768  0.692165  0.608240  0.678501\n",
      "1   0.260199  0.794881  0.069227  0.192699\n",
      "2   0.394618  0.101520  0.594654  0.703132\n",
      "3   0.509163  0.457849  0.820391  0.112807\n",
      "4   0.760219  0.556380  0.872123  0.361935\n",
      "5   0.308516  0.455127  0.131887  0.940261\n",
      "6   0.741165  0.000449  0.787234  0.024762\n",
      "7   0.404972  0.758758  0.719568  0.480989\n",
      "8   0.240892  0.868641  0.833327  0.293110\n",
      "9   0.632691  0.505122  0.981208  0.766430\n",
      "10  0.702546  0.458732  0.896948  0.810891\n",
      "11  0.565426  0.502326  0.014597  0.885642\n",
      "12  0.653956  0.731568  0.576220  0.753403\n",
      "13  0.608090  0.731330  0.699692  0.019816\n",
      "14  0.689289  0.748916  0.965309  0.066069\n",
      "15  0.347337  0.801849  0.034197  0.500366\n",
      "16  0.041506  0.263485  0.972518  0.886402\n",
      "17  0.059094  0.130114  0.292785  0.871951\n",
      "18  0.966399  0.673830  0.788475  0.095822\n",
      "19  0.711646  0.306486  0.167158  0.145561\n",
      "[0 1 2 3]\n"
     ]
    },
    {
     "data": {
      "text/plain": [
       "[Text(0,0,'0'),\n",
       " Text(0,0,'1'),\n",
       " Text(0,0,'2'),\n",
       " Text(0,0,'3'),\n",
       " Text(0,0,'4'),\n",
       " Text(0,0,'5'),\n",
       " Text(0,0,'6'),\n",
       " Text(0,0,'7'),\n",
       " Text(0,0,'8'),\n",
       " Text(0,0,'9'),\n",
       " Text(0,0,'10'),\n",
       " Text(0,0,'11'),\n",
       " Text(0,0,'12'),\n",
       " Text(0,0,'13'),\n",
       " Text(0,0,'14'),\n",
       " Text(0,0,'15'),\n",
       " Text(0,0,'16'),\n",
       " Text(0,0,'17'),\n",
       " Text(0,0,'18'),\n",
       " Text(0,0,'19')]"
      ]
     },
     "execution_count": 4,
     "metadata": {},
     "output_type": "execute_result"
    },
    {
     "data": {
      "image/png": "[encoded data removed]",
      "text/plain": [
       "<Figure size 432x288 with 2 Axes>"
      ]
     },
     "metadata": {
      "needs_background": "light"
     },
     "output_type": "display_data"
    }
   ],
   "source": [
    "import matplotlib.pyplot as plt\n",
    "import numpy as np\n",
    "import pandas as pd\n",
    "import seaborn as sns\n",
    "\n",
    "df1 = pd.DataFrame(np.random.rand(20, 4), columns=list(\"ABCD\"))\n",
    "df2 = pd.DataFrame(np.random.rand(20, 4), columns=list(\"WXYZ\"))\n",
    "\n",
    "print(df1)\n",
    "#https://matplotlib.org/3.1.1/api/_as_gen/matplotlib.pyplot.subplots.html\n",
    "\n",
    "# Create a figure and a set of subplots.\n",
    "\n",
    "# This utility wrapper makes it convenient to create common layouts of subplots, including the enclosing figure object\n",
    "#, in a single call.\n",
    "\n",
    "# fig : Figure\n",
    "# ax : axes.Axes object or array of Axes objects.\n",
    "# ax can be either a single Axes object or an array of Axes objects if more than one subplot was created. The dimensions of the resulting array can be controlled with the squeeze keyword, see above.\n",
    "\n",
    "fig, (ax1, ax2) = plt.subplots(ncols=2)\n",
    "im1 = ax1.imshow(df1)\n",
    "im2 = ax2.imshow(df2)\n",
    "\n",
    "# We want to show all ticks...\n",
    "ax1.set_xticks(np.arange(len(\"ABCD\")))\n",
    "ax1.set_yticks(np.arange(df1.shape[0]))\n",
    "# ... and label them with the respective list entries\n",
    "ax1.set_xticklabels(list(\"ABCD\"))\n",
    "ax1.set_yticklabels(range(df1.shape[0]))\n",
    "\n",
    "# We want to show all ticks...\n",
    "ax2.set_xticks(np.arange(len(\"WXYZ\")))\n",
    "ax2.set_yticks(np.arange(df2.shape[0]))\n",
    "# ... and label them with the respective list entries\n",
    "ax2.set_xticklabels(list(\"WXYZ\"))\n",
    "ax2.set_yticklabels(range(df2.shape[0]))\n"
   ]
  },
  {
   "cell_type": "code",
   "execution_count": null,
   "metadata": {},
   "outputs": [],
   "source": []
  }
 ],
 "metadata": {
  "kernelspec": {
   "display_name": "Python 3",
   "language": "python",
   "name": "python3"
  },
  "language_info": {
   "codemirror_mode": {
    "name": "ipython",
    "version": 3
   },
   "file_extension": ".py",
   "mimetype": "text/x-python",
   "name": "python",
   "nbconvert_exporter": "python",
   "pygments_lexer": "ipython3",
   "version": "3.6.8"
  }
 },
 "nbformat": 4,
 "nbformat_minor": 2
}
