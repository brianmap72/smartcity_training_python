{
 "cells": [
  {
   "cell_type": "code",
   "execution_count": 4,
   "metadata": {},
   "outputs": [
    {
     "name": "stdout",
     "output_type": "stream",
     "text": [
      "[0.42857143 0.14285714 0.28571429 1.         0.57142857 0.71428571\n",
      " 0.         0.42857143 0.57142857]\n"
     ]
    },
    {
     "data": {
      "image/png": "[encoded data removed]",
      "text/plain": [
       "<Figure size 432x288 with 1 Axes>"
      ]
     },
     "metadata": {
      "needs_background": "light"
     },
     "output_type": "display_data"
    }
   ],
   "source": [
    "import matplotlib.pyplot as plt\n",
    "import matplotlib as mp\n",
    "import numpy as np\n",
    " \n",
    "data = [8, 6, 7, 12, 9, 10, 5, 8, 9]\n",
    " \n",
    "# Colorize the graph based on likeability:\n",
    "likeability_scores = np.array(data)\n",
    "\n",
    "data_normalizer = mp.colors.Normalize()\n",
    "\n",
    "color_map = mp.colors.LinearSegmentedColormap(\n",
    "    \"my_map\",\n",
    "    {\n",
    "        \"red\": [(0, 1.0, 1.0),\n",
    "                (1.0, .5, .5)],\n",
    "        \"green\": [(0, 0.5, 0.5),\n",
    "                  (1.0, 0, 0)],\n",
    "        \"blue\": [(0, 0.50, 0.5),\n",
    "                 (1.0, 0, 0)]\n",
    "    }\n",
    ")\n",
    " \n",
    "# Map xs to numbers:\n",
    "N = len(data)\n",
    "x_nums = np.arange(1, N+1)\n",
    " \n",
    "# Plot a bar graph:\n",
    "plt.bar(\n",
    "    x_nums,\n",
    "    data,\n",
    "    align=\"center\",\n",
    "    color=color_map(data_normalizer(likeability_scores))\n",
    ")\n",
    " \n",
    "plt.xticks(x_nums, data)\n",
    "plt.show()"
   ]
  },
  {
   "cell_type": "code",
   "execution_count": null,
   "metadata": {},
   "outputs": [],
   "source": []
  }
 ],
 "metadata": {
  "kernelspec": {
   "display_name": "Python 3",
   "language": "python",
   "name": "python3"
  },
  "language_info": {
   "codemirror_mode": {
    "name": "ipython",
    "version": 3
   },
   "file_extension": ".py",
   "mimetype": "text/x-python",
   "name": "python",
   "nbconvert_exporter": "python",
   "pygments_lexer": "ipython3",
   "version": "3.6.8"
  }
 },
 "nbformat": 4,
 "nbformat_minor": 2
}
