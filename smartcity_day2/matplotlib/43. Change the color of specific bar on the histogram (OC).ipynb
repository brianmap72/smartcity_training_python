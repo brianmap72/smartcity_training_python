{
 "cells": [
  {
   "cell_type": "code",
   "execution_count": 2,
   "metadata": {},
   "outputs": [
    {
     "data": {
      "image/png": "[encoded data removed]",
      "text/plain": [
       "<Figure size 432x288 with 1 Axes>"
      ]
     },
     "metadata": {
      "needs_background": "light"
     },
     "output_type": "display_data"
    }
   ],
   "source": [
    "import pandas as pd\n",
    "import matplotlib.pyplot as plt\n",
    " \n",
    "s = pd.Series([12, 15, 13, 20, 19, 20, 11, 19, 11, 12, 19, 13, \n",
    "                    12, 10, 6, 19, 3, 1, 1, 0, 4, 4, 6, 5, 3, 7, \n",
    "                    12, 7, 9, 8, 12, 11, 11, 18, 19, 18, 19, 3, 6, \n",
    "                    5, 6, 9, 11, 10, 14, 14, 16, 17, 17, 19, 0, 2, \n",
    "                    0, 3, 1, 4, 6, 6, 8, 7, 7, 6, 7, 11, 11, 10, \n",
    "                    11, 10, 13, 13, 15, 18, 20, 19, 1, 10, 8, 16, \n",
    "                    19, 19, 17, 16, 11, 1, 10, 13, 15, 3, 8, 6, 9, \n",
    "                    10, 15, 19, 2, 4, 5, 6, 9, 11, 10, 9, 10, 9, \n",
    "                    15, 16, 18, 13])\n",
    " \n",
    "p = s.plot(kind='hist', bins=50, color='orange')\n",
    " \n",
    "bar_value_to_label = 5\n",
    " \n",
    "min_distance = float(\"inf\")  # initialize min_distance with infinity\n",
    "index_of_bar_to_label = 0\n",
    "for i, rectangle in enumerate(p.patches):  # iterate over every bar\n",
    "    tmp = abs(  # tmp = distance from middle of the bar to bar_value_to_label\n",
    "        (rectangle.get_x() +\n",
    "            (rectangle.get_width() * (1 / 2))) - bar_value_to_label)\n",
    "    if tmp < min_distance:  # we are searching for the bar with x cordinate\n",
    "                            # closest to bar_value_to_label\n",
    "        min_distance = tmp\n",
    "        index_of_bar_to_label = i\n",
    "p.patches[index_of_bar_to_label].set_color('b')\n",
    " \n",
    "plt.show()"
   ]
  },
  {
   "cell_type": "code",
   "execution_count": null,
   "metadata": {},
   "outputs": [],
   "source": []
  }
 ],
 "metadata": {
  "kernelspec": {
   "display_name": "Python 3",
   "language": "python",
   "name": "python3"
  },
  "language_info": {
   "codemirror_mode": {
    "name": "ipython",
    "version": 3
   },
   "file_extension": ".py",
   "mimetype": "text/x-python",
   "name": "python",
   "nbconvert_exporter": "python",
   "pygments_lexer": "ipython3",
   "version": "3.6.8"
  }
 },
 "nbformat": 4,
 "nbformat_minor": 2
}
