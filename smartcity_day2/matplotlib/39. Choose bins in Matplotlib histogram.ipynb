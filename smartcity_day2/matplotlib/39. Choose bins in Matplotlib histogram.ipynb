{
 "cells": [
  {
   "cell_type": "code",
   "execution_count": 8,
   "metadata": {
    "scrolled": true
   },
   "outputs": [
    {
     "name": "stdout",
     "output_type": "stream",
     "text": [
      "[ 0  1  2  3  4  5  6  7  8  9 10 11 12 13 14 15 16 17 18 19 20]\n"
     ]
    },
    {
     "data": {
      "image/png": "[encoded data removed]",
      "text/plain": [
       "<Figure size 432x288 with 1 Axes>"
      ]
     },
     "metadata": {
      "needs_background": "light"
     },
     "output_type": "display_data"
    }
   ],
   "source": [
    "import numpy as np\n",
    "import matplotlib.pyplot as plt\n",
    " \n",
    "# Data in numpy array\n",
    "data = np.array([12, 15, 13, 20, 19, 20, 11, 19, 11, 12, 19, 13, \n",
    "                    12, 10, 6, 19, 3, 1, 1, 0, 4, 4, 6, 5, 3, 7, \n",
    "                    12, 7, 9, 8, 12, 11, 11, 18, 19, 18, 19, 3, 6, \n",
    "                    5, 6, 9, 11, 10, 14, 14, 16, 17, 17, 19, 0, 2, \n",
    "                    0, 3, 1, 4, 6, 6, 8, 7, 7, 6, 7, 11, 11, 10, \n",
    "                    11, 10, 13, 13, 15, 18, 20, 19, 1, 10, 8, 16, \n",
    "                    19, 19, 17, 16, 11, 1, 10, 13, 15, 3, 8, 6, 9, \n",
    "                    10, 15, 19, 2, 4, 5, 6, 9, 11, 10, 9, 10, 9, \n",
    "                    15, 16, 18, 13])\n",
    " \n",
    "# Plot the distribution of numpy data\n",
    "ax = plt.hist(data, bins=np.arange(min(data), max(data) + 1, 1), align='left')\n",
    "\n",
    "# from 0 to 20, with increment of 0.25\n",
    "print(np.arange(min(data), max(data) + 1, 1))\n",
    "\n",
    "# Add axis labels\n",
    "plt.xlabel(\"Year\")\n",
    "plt.ylabel(\"Salary\")\n",
    "plt.title(\"Example of Histogram Plot\")\n",
    " \n",
    "plt.show()"
   ]
  },
  {
   "cell_type": "code",
   "execution_count": null,
   "metadata": {},
   "outputs": [],
   "source": [
    "# bins : int or sequence or str, optional\n",
    "# If an integer is given, bins + 1 bin edges are calculated and returned, consistent with numpy.histogram.\n",
    "\n",
    "# If bins is a sequence, gives bin edges, including left edge of first bin and right edge of last bin. \n",
    "# In this case, bins is returned unmodified.\n",
    "\n",
    "# All but the last (righthand-most) bin is half-open. In other words, if bins is:\n",
    "\n",
    "# [1, 2, 3, 4]\n",
    "\n",
    "# then the first bin is [1, 2) (including 1, but excluding 2) and the second [2, 3). \n",
    "# The last bin, however, is [3, 4], which includes 4."
   ]
  }
 ],
 "metadata": {
  "kernelspec": {
   "display_name": "Python 3",
   "language": "python",
   "name": "python3"
  },
  "language_info": {
   "codemirror_mode": {
    "name": "ipython",
    "version": 3
   },
   "file_extension": ".py",
   "mimetype": "text/x-python",
   "name": "python",
   "nbconvert_exporter": "python",
   "pygments_lexer": "ipython3",
   "version": "3.6.8"
  }
 },
 "nbformat": 4,
 "nbformat_minor": 2
}
