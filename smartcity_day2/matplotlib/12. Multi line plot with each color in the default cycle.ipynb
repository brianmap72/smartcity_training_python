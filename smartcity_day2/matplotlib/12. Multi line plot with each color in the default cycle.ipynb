{
 "cells": [
  {
   "cell_type": "code",
   "execution_count": 3,
   "metadata": {},
   "outputs": [
    {
     "name": "stdout",
     "output_type": "stream",
     "text": [
      "[0, 0, 0, 0, 0]\n",
      "[1, 1, 1, 1, 1]\n",
      "[2, 2, 2, 2, 2]\n",
      "[3, 3, 3, 3, 3]\n",
      "[4, 4, 4, 4, 4]\n",
      "[5, 5, 5, 5, 5]\n",
      "[6, 6, 6, 6, 6]\n",
      "[7, 7, 7, 7, 7]\n",
      "[8, 8, 8, 8, 8]\n",
      "[9, 9, 9, 9, 9]\n"
     ]
    },
    {
     "data": {
      "text/plain": [
       "<matplotlib.legend.Legend at 0x12088ee80>"
      ]
     },
     "execution_count": 3,
     "metadata": {},
     "output_type": "execute_result"
    },
    {
     "data": {
      "image/png": "[encoded data removed]",
      "text/plain": [
       "<Figure size 432x288 with 1 Axes>"
      ]
     },
     "metadata": {
      "needs_background": "light"
     },
     "output_type": "display_data"
    }
   ],
   "source": [
    "import matplotlib.pyplot as plt\n",
    " \n",
    "for i in range(10):\n",
    "    print([i]*5) ## repeat 5 times\n",
    "    plt.plot([i]*5, c='C'+str(i), label='C'+str(i))\n",
    " \n",
    "# Plot a line graph\n",
    "plt.xlim(0, 10)\n",
    " \n",
    "# Add legend\n",
    "plt.legend()\n",
    " \n"
   ]
  },
  {
   "cell_type": "code",
   "execution_count": null,
   "metadata": {},
   "outputs": [],
   "source": []
  }
 ],
 "metadata": {
  "kernelspec": {
   "display_name": "Python 3",
   "language": "python",
   "name": "python3"
  },
  "language_info": {
   "codemirror_mode": {
    "name": "ipython",
    "version": 3
   },
   "file_extension": ".py",
   "mimetype": "text/x-python",
   "name": "python",
   "nbconvert_exporter": "python",
   "pygments_lexer": "ipython3",
   "version": "3.6.8"
  }
 },
 "nbformat": 4,
 "nbformat_minor": 2
}
