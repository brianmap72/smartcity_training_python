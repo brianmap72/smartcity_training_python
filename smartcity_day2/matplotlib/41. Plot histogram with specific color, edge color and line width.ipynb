{
 "cells": [
  {
   "cell_type": "code",
   "execution_count": 2,
   "metadata": {},
   "outputs": [
    {
     "data": {
      "image/png": "[encoded data removed]",
      "text/plain": [
       "<Figure size 432x288 with 1 Axes>"
      ]
     },
     "metadata": {
      "needs_background": "light"
     },
     "output_type": "display_data"
    }
   ],
   "source": [
    "import numpy as np\n",
    "import matplotlib.pyplot as plt\n",
    " \n",
    "# Data in numpy array\n",
    "exp_data = np.array([12, 15, 13, 20, 19, 20, 11, 19, 11, 12, 19, 13, \n",
    "                    12, 10, 6, 19, 3, 1, 1, 0, 4, 4, 6, 5, 3, 7, \n",
    "                    12, 7, 9, 8, 12, 11, 11, 18, 19, 18, 19, 3, 6, \n",
    "                    5, 6, 9, 11, 10, 14, 14, 16, 17, 17, 19, 0, 2, \n",
    "                    0, 3, 1, 4, 6, 6, 8, 7, 7, 6, 7, 11, 11, 10, \n",
    "                    11, 10, 13, 13, 15, 18, 20, 19, 1, 10, 8, 16, \n",
    "                    19, 19, 17, 16, 11, 1, 10, 13, 15, 3, 8, 6, 9, \n",
    "                    10, 15, 19, 2, 4, 5, 6, 9, 11, 10, 9, 10, 9, \n",
    "                    15, 16, 18, 13])\n",
    " \n",
    "# Plot the distribution of numpy data\n",
    "plt.hist(exp_data, bins=21, align='left', color='b', edgecolor='red',linewidth=1)\n",
    " \n",
    "#     align : {'left', 'mid', 'right'}, optional\n",
    "# Controls how the histogram is plotted.\n",
    "\n",
    "# 'left': bars are centered on the left bin edges.\n",
    "# 'mid': bars are centered between the bin edges.\n",
    "# 'right': bars are centered on the right bin edges.\n",
    "# Default is 'mid'\n",
    "\n",
    "# Add axis labels\n",
    "plt.xlabel(\"Year\")\n",
    "plt.ylabel(\"Salary\")\n",
    "plt.title(\"Example of Histogram Plot\")\n",
    " \n",
    "plt.show()"
   ]
  },
  {
   "cell_type": "code",
   "execution_count": null,
   "metadata": {},
   "outputs": [],
   "source": [
    "# align : {'left', 'mid', 'right'}, optional\n",
    "# Controls how the histogram is plotted.\n",
    "\n",
    "# 'left': bars are centered on the left bin edges.\n",
    "# 'mid': bars are centered between the bin edges.\n",
    "# 'right': bars are centered on the right bin edges.\n",
    "# Default is 'mid'"
   ]
  }
 ],
 "metadata": {
  "kernelspec": {
   "display_name": "Python 3",
   "language": "python",
   "name": "python3"
  },
  "language_info": {
   "codemirror_mode": {
    "name": "ipython",
    "version": 3
   },
   "file_extension": ".py",
   "mimetype": "text/x-python",
   "name": "python",
   "nbconvert_exporter": "python",
   "pygments_lexer": "ipython3",
   "version": "3.6.8"
  }
 },
 "nbformat": 4,
 "nbformat_minor": 2
}
