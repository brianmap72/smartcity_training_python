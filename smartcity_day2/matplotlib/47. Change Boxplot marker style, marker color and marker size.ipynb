{
 "cells": [
  {
   "cell_type": "code",
   "execution_count": 2,
   "metadata": {},
   "outputs": [
    {
     "name": "stdout",
     "output_type": "stream",
     "text": [
      "         Apple  Orange  Banana  Pear\n",
      "Basket1     10      20      30    40\n",
      "Basket2      7      14      21   128\n",
      "Basket3     15      15      89    12\n",
      "Basket4    -15      14       1     8\n",
      "Basket5      7     -11       1     8\n",
      "Basket6      5       4       9     2\n",
      "{'marker': '+', 'markerfacecolor': 'g', 'markersize': 15, 'linestyle': 'none', 'markeredgecolor': 'r'}\n"
     ]
    },
    {
     "data": {
      "image/png": "[encoded data removed]",
      "text/plain": [
       "<Figure size 432x288 with 1 Axes>"
      ]
     },
     "metadata": {
      "needs_background": "light"
     },
     "output_type": "display_data"
    }
   ],
   "source": [
    "import matplotlib.pyplot as plt\n",
    "import pandas as pd\n",
    " \n",
    "df = pd.DataFrame([[10, 20, 30, 40], [7, 14, 21, 128], [15, 15, 89, 12],\n",
    "                   [-15, 14, 1, 8], [7, -11, 1, 8], [5, 4, 9, 2]],\n",
    "                  columns=['Apple', 'Orange', 'Banana', 'Pear'],\n",
    "                  index=['Basket1', 'Basket2', 'Basket3', 'Basket4',\n",
    "                         'Basket5', 'Basket6'])\n",
    "print(df)\n",
    " \n",
    "flierprops = {'marker':'+', 'markerfacecolor':'g', 'markersize':15, 'linestyle':'none', 'markeredgecolor':'r'}\n",
    "print(flierprops)\n",
    "\n",
    "df.boxplot(['Apple', 'Orange', 'Banana', 'Pear'], flierprops=flierprops)\n",
    " \n",
    " \n",
    "plt.show()"
   ]
  },
  {
   "cell_type": "code",
   "execution_count": null,
   "metadata": {},
   "outputs": [],
   "source": []
  }
 ],
 "metadata": {
  "kernelspec": {
   "display_name": "Python 3",
   "language": "python",
   "name": "python3"
  },
  "language_info": {
   "codemirror_mode": {
    "name": "ipython",
    "version": 3
   },
   "file_extension": ".py",
   "mimetype": "text/x-python",
   "name": "python",
   "nbconvert_exporter": "python",
   "pygments_lexer": "ipython3",
   "version": "3.6.8"
  }
 },
 "nbformat": 4,
 "nbformat_minor": 2
}
