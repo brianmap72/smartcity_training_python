{
 "cells": [
  {
   "cell_type": "code",
   "execution_count": 3,
   "metadata": {
    "scrolled": true
   },
   "outputs": [
    {
     "name": "stdout",
     "output_type": "stream",
     "text": [
      "         Apple  Orange  Banana  Pear\n",
      "Basket1     10      20      30    40\n",
      "Basket2      7      14      21    28\n",
      "Basket3     55      15       8    12\n",
      "Basket4     15      14       1     8\n",
      "<function colormaps at 0x116ffee18>\n"
     ]
    },
    {
     "data": {
      "image/png": "[encoded data removed]",
      "text/plain": [
       "<Figure size 432x288 with 2 Axes>"
      ]
     },
     "metadata": {
      "needs_background": "light"
     },
     "output_type": "display_data"
    }
   ],
   "source": [
    "import matplotlib.pyplot as plt\n",
    "import pandas as pd\n",
    " \n",
    "df = pd.DataFrame([[10, 20, 30, 40], [7, 14, 21, 28], [55, 15, 8, 12],\n",
    "                    [15, 14, 1, 8]],\n",
    "                  columns=['Apple', 'Orange', 'Banana', 'Pear'],\n",
    "                  index=['Basket1', 'Basket2', 'Basket3', 'Basket4']\n",
    "                  )\n",
    "print(df)\n",
    "print(plt.colormaps)\n",
    "\n",
    "plt.imshow(df, cmap=\"jet\")\n",
    "plt.colorbar() #heatmap\n",
    "plt.xticks(range(len(df)),df.columns, rotation=20) #https://matplotlib.org/3.1.1/api/_as_gen/matplotlib.pyplot.xticks.html\n",
    "plt.yticks(range(len(df)),df.index)\n",
    "plt.show()"
   ]
  },
  {
   "cell_type": "code",
   "execution_count": null,
   "metadata": {},
   "outputs": [],
   "source": [
    "# locs, labels = xticks()            # Get locations and labels\n",
    "# xticks(ticks, [labels], **kwargs)  # Set locations and labels\n",
    "# Copy to clipboard\n",
    "\n",
    "# Parameters:\t\n",
    "# ticks : array_like\n",
    "# A list of positions at which ticks should be placed. You can pass an empty list to disable xticks.\n",
    "\n",
    "# labels : array_like, optional\n",
    "# A list of explicit labels to place at the given locs.\n",
    "\n",
    "# **kwargs\n",
    "# Text properties can be used to control the appearance of the labels."
   ]
  }
 ],
 "metadata": {
  "kernelspec": {
   "display_name": "Python 3",
   "language": "python",
   "name": "python3"
  },
  "language_info": {
   "codemirror_mode": {
    "name": "ipython",
    "version": 3
   },
   "file_extension": ".py",
   "mimetype": "text/x-python",
   "name": "python",
   "nbconvert_exporter": "python",
   "pygments_lexer": "ipython3",
   "version": "3.6.8"
  }
 },
 "nbformat": 4,
 "nbformat_minor": 2
}
