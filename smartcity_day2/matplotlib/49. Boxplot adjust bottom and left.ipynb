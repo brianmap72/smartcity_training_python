{
 "cells": [
  {
   "cell_type": "code",
   "execution_count": 8,
   "metadata": {},
   "outputs": [
    {
     "name": "stdout",
     "output_type": "stream",
     "text": [
      "          0    1    2    3\n",
      "Apple   1.2  2.3  3.0  4.5\n",
      "Orange  1.1  2.2  2.9  5.0\n",
      "   Apple  Orange\n",
      "0    1.2     1.1\n",
      "1    2.3     2.2\n",
      "2    3.0     2.9\n",
      "3    4.5     5.0\n"
     ]
    },
    {
     "data": {
      "image/png": "[encoded data removed]",
      "text/plain": [
       "<Figure size 432x288 with 1 Axes>"
      ]
     },
     "metadata": {
      "needs_background": "light"
     },
     "output_type": "display_data"
    }
   ],
   "source": [
    "import matplotlib.pyplot as plt\n",
    "import pandas as pd\n",
    " \n",
    "x = [[1.2, 2.3, 3.0, 4.5],\n",
    "     [1.1, 2.2, 2.9, 5.0]]\n",
    " \n",
    "df = pd.DataFrame(x, index=['Apple', 'Orange'])\n",
    "print(df)\n",
    "print(df.T)\n",
    "df.T.boxplot()\n",
    "\n",
    "#matplotlib.pyplot.subplots_adjust(left=None, bottom=None, right=None, top=None, wspace=None, hspace=None)\n",
    "plt.subplots_adjust(left=0, bottom=0.3)\n",
    " \n",
    "plt.show()"
   ]
  },
  {
   "cell_type": "code",
   "execution_count": null,
   "metadata": {},
   "outputs": [],
   "source": [
    "# left = 0.125  # the left side of the subplots of the figure\n",
    "# right = 0.9   # the right side of the subplots of the figure\n",
    "# bottom = 0.1  # the bottom of the subplots of the figure\n",
    "# top = 0.9     # the top of the subplots of the figure\n",
    "# wspace = 0.2  # the amount of width reserved for space between subplots,\n",
    "#               # expressed as a fraction of the average axis width\n",
    "# hspace = 0.2  # the amount of height reserved for space between subplots,\n",
    "#               # expressed as a fraction of the average axis height"
   ]
  }
 ],
 "metadata": {
  "kernelspec": {
   "display_name": "Python 3",
   "language": "python",
   "name": "python3"
  },
  "language_info": {
   "codemirror_mode": {
    "name": "ipython",
    "version": 3
   },
   "file_extension": ".py",
   "mimetype": "text/x-python",
   "name": "python",
   "nbconvert_exporter": "python",
   "pygments_lexer": "ipython3",
   "version": "3.6.8"
  }
 },
 "nbformat": 4,
 "nbformat_minor": 2
}
