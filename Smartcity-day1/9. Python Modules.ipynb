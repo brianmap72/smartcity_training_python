{
 "cells": [
  {
   "cell_type": "markdown",
   "metadata": {},
   "source": [
    "## Python - Modules\n",
    "A module allows you to logically organize your Python code. Grouping related code into a module makes the code easier to understand and use. A module is a Python object with arbitrarily named attributes that you can bind and reference.\n",
    "Simply, a module is a file consisting of Python code. A module can define functions, classes and variables. A module can also include runnable code.\n",
    "## Example\n",
    "The Python code for a module named aname normally resides in a file named aname.py. Here's an example of a simple module, support.py"
   ]
  },
  {
   "cell_type": "code",
   "execution_count": 10,
   "metadata": {},
   "outputs": [],
   "source": [
    "def print_func( par ):\n",
    "   print(\"Hello : \", par)\n",
    "   return"
   ]
  },
  {
   "cell_type": "code",
   "execution_count": 2,
   "metadata": {},
   "outputs": [
    {
     "name": "stdout",
     "output_type": "stream",
     "text": [
      "Hello :  1\n",
      "None\n"
     ]
    }
   ],
   "source": [
    "print(print_func(1))"
   ]
  },
  {
   "cell_type": "markdown",
   "metadata": {},
   "source": [
    "## The import Statement\n",
    "You can use any Python source file as a module by executing an import statement in some other Python source file. The import has the following syntax −\n",
    "```import module1[, module2[,... moduleN]``` <br>\n",
    "\n",
    "Python has a module named datetime to work with dates and times\n"
   ]
  },
  {
   "cell_type": "code",
   "execution_count": 2,
   "metadata": {},
   "outputs": [
    {
     "name": "stdout",
     "output_type": "stream",
     "text": [
      "2019-07-19T10:40:16.300101\n"
     ]
    }
   ],
   "source": [
    "import datetime\n",
    "oTime = datetime.datetime.now()\n",
    "print(oTime.isoformat())"
   ]
  },
  {
   "cell_type": "markdown",
   "metadata": {},
   "source": [
    "## The from...import Statement\n",
    "Python's from statement lets you import specific attributes from a module into the current namespace. The from...import has the following syntax − <br>\n",
    "\n",
    "```from modname import name1[, name2[, ... nameN]]``` <br><br>\n",
    "\n",
    "For example, to import the function fibonacci from the module fib, use the following statement − <br><br>\n",
    "```from fib import fibonacci``` <br> \n",
    "\n",
    "This statement does not import the entire module fib into the current namespace; it just introduces the item fibonacci from the module fib into the global symbol table of the importing module."
   ]
  },
  {
   "cell_type": "markdown",
   "metadata": {},
   "source": [
    "## The from...import * Statement\n",
    "It is also possible to import all names from a module into the current namespace by using the following import statement − <br>\n",
    "```from modname import *``` <br>\n",
    "\n",
    "This provides an easy way to import all the items from a module into the current namespace; however, this statement should be used sparingly."
   ]
  },
  {
   "cell_type": "markdown",
   "metadata": {},
   "source": [
    "If you import somemodule the contained globals will be available via somemodule.someglobal. If you from somemodule import * ALL its globals (or those listed in __all__ if it exists) will be made globals, i.e. you can access them using someglobal without the module name in front of it.\n",
    "\n",
    "\n",
    "Using from module import * is discouraged as it clutters the global scope and if you import stuff from multiple modules you are likely to get conflicts and overwrite existing classes/functions.\n",
    "\n",
    "#### import a\n",
    "a.b() <br>\n",
    "a.c() <br>\n",
    "\n",
    "#### from a import b\n",
    "b()  <br>\n",
    "c() # fails because c isn't imported  <br>\n",
    "\n",
    "#### from a import *\n",
    "b()  <br>\n",
    "c()  <br>\n"
   ]
  },
  {
   "cell_type": "markdown",
   "metadata": {},
   "source": [
    "## Namespaces and Scoping\n",
    "Variables are names (identifiers) that map to objects. A namespace is a dictionary of variable names (keys) and their corresponding objects (values). <br> \n",
    "\n",
    "A Python statement can access variables in a local namespace and in the global namespace. If a local and a *global variable have the same name, the local variable shadows the global variable.* <br>\n",
    "\n",
    "<b>Each function has its own local namespace. Class methods follow the same scoping rule as ordinary functions.</b>  <br>\n",
    "Python makes educated guesses on whether variables are local or global. It assumes that any variable assigned a value in a function is local. <br>\n",
    "\n",
    "Therefore, in order to assign a value to a global variable within a function, you must first use the global statement. <br>\n",
    "The statement global VarName tells Python that VarName is a global variable. Python stops searching the local namespace for the variable. <br>\n",
    "\n",
    "For example, we define a variable Money in the global namespace. Within the function Money, we assign Money a value, therefore Python assumes Money as a local variable. However, we accessed the value of the local variable Money before setting it, so an UnboundLocalError is the result. Uncommenting the global statement fixes the problem."
   ]
  },
  {
   "cell_type": "code",
   "execution_count": 8,
   "metadata": {},
   "outputs": [
    {
     "name": "stdout",
     "output_type": "stream",
     "text": [
      "2000\n",
      "2001\n"
     ]
    }
   ],
   "source": [
    "Money = 2000\n",
    "\n",
    "def AddMoney():\n",
    "    # Uncomment the following line to fix the code:\n",
    "    global Money\n",
    "    Money = Money + 1\n",
    "\n",
    "print(Money)\n",
    "AddMoney()\n",
    "print(Money)"
   ]
  },
  {
   "cell_type": "markdown",
   "metadata": {},
   "source": [
    "## The dir( ) Function\n",
    "The dir() built-in function returns a sorted list of strings containing the <b> names defined by a module. </b>\n",
    "The list contains the names of all the modules, variables and functions that are defined in a module. Following is a simple example −"
   ]
  },
  {
   "cell_type": "code",
   "execution_count": 9,
   "metadata": {},
   "outputs": [
    {
     "name": "stdout",
     "output_type": "stream",
     "text": [
      "['__doc__', '__file__', '__loader__', '__name__', '__package__', '__spec__', 'acos', 'acosh', 'asin', 'asinh', 'atan', 'atan2', 'atanh', 'ceil', 'copysign', 'cos', 'cosh', 'degrees', 'e', 'erf', 'erfc', 'exp', 'expm1', 'fabs', 'factorial', 'floor', 'fmod', 'frexp', 'fsum', 'gamma', 'gcd', 'hypot', 'inf', 'isclose', 'isfinite', 'isinf', 'isnan', 'ldexp', 'lgamma', 'log', 'log10', 'log1p', 'log2', 'modf', 'nan', 'pi', 'pow', 'radians', 'sin', 'sinh', 'sqrt', 'tan', 'tanh', 'tau', 'trunc']\n"
     ]
    }
   ],
   "source": [
    "# Import built-in module math\n",
    "import math\n",
    "\n",
    "content = dir(math)\n",
    "print(content)"
   ]
  },
  {
   "cell_type": "markdown",
   "metadata": {},
   "source": [
    "## The globals() and locals() Functions\n",
    "The globals() and locals() functions can be used to return the names in the global and local namespaces depending on the location from where they are called. <br>\n",
    "\n",
    "If locals() is called from within a function, it will return all the names that can be accessed locally from that function. <br>\n",
    "\n",
    "If globals() is called from within a function, it will return all the names that can be accessed globally from that function. <br>\n",
    "\n",
    "The return type of both these functions is dictionary. Therefore, names can be extracted using the keys() function."
   ]
  },
  {
   "cell_type": "code",
   "execution_count": 21,
   "metadata": {},
   "outputs": [
    {
     "name": "stdout",
     "output_type": "stream",
     "text": [
      "Here no local variable  is present :  {}\n",
      "Here no global variable  is present :  {'__name__': '__main__', '__doc__': 'Automatically created module for IPython interactive environment', '__package__': None, '__loader__': None, '__spec__': None, '__builtin__': <module 'builtins' (built-in)>, '__builtins__': <module 'builtins' (built-in)>, '_ih': ['', 'def print_func( par ):\\n   print(\"Hello : \", par)\\n   return', 'print(print_func(1))', 'import datetime\\noTime = datetime.datetime.now()\\nprint(oTime.isoformat())', 'Money = 2000\\ndef AddMoney():\\n   # Uncomment the following line to fix the code:\\n    # global Money\\n    Money = Money + 1\\n\\nprint(Money)\\nAddMoney()\\nprint(Money)', 'Money = 2000\\n\\ndef AddMoney():\\n   # Uncomment the following line to fix the code:\\n    global Money\\n    Money = Money + 1\\n\\nprint(Money)\\nAddMoney()\\nprint(Money)', 'Money = 2000\\n\\ndef AddMoney():\\n   # Uncomment the following line to fix the code:\\n    # global Money\\n    Money = Money + 1\\n\\nprint(Money)\\nAddMoney()\\nprint(Money)', 'Money = 2000\\n\\ndef AddMoney():\\n   # Uncomment the following line to fix the code:\\n    global Money\\n    Money = Money + 1\\n\\nprint(Money)\\nAddMoney()\\nprint(Money)', 'reload(math)', 'import importlib\\nimportlib.reload(math)', 'def print_func( par ):\\n   print(\"Hello : \", par)\\n   return', 'import importlib\\nimportlib.reload(print_func)', 'import importlib\\nimport math\\n\\n\\nimportlib.reload(math)', 'import importlib\\n\\nimportlib.reload(math)', 'from pprint import pprint\\n \\na = 10\\nb = 20\\n \\ndef foo():\\nx = 30 # x and y are local variables\\ny = 40\\nprint(\"locals() = {0}\".format(locals()))\\n \\n \\npprint(locals()) # same as calling globals()\\n \\nprint(\\'*\\' * 80)\\n \\nprint(\"locals() == globals()? \", locals() == globals())\\n \\nprint(\\'*\\' * 80)\\n \\nfoo()', 'from pprint import pprint\\n \\na = 10\\nb = 20\\n \\ndef foo():\\n    x = 30 # x and y are local variables\\n    y = 40\\n    print(\"locals() = {0}\".format(locals()))\\n \\n \\npprint(locals()) # same as calling globals()\\n \\nprint(\\'*\\' * 80)\\n \\nprint(\"locals() == globals()? \", locals() == globals())\\n \\nprint(\\'*\\' * 80)\\n \\nfoo()', 'from pprint import pprint\\n \\na = 10\\nb = 20\\n \\ndef foo():\\n    x = 30 # x and y are local variables\\n    y = 40\\n    print(\"locals() = {0}\".format(locals()))\\n \\n \\npprint(locals()) # same as calling globals()\\n \\nprint(\\'*\\' * 80)\\n \\nprint(\"locals() == globals()? \", locals() == globals())\\n \\nprint(\\'*\\' * 80)\\n \\nfoo()', '# Python program to understand about locals \\n  \\n# here no local varible is present \\ndef demo1(): \\n    print(\"Here no local variable  is present : \", locals()) \\n      \\n# here local variables are present \\ndef demo2(): \\n     name = \"Ankit\"\\n     print(\"Here local variables are present : \", locals()) \\n       \\n# driver code \\ndemo1() \\ndemo2() ', '# Python program to understand about locals \\n  \\n# here no local varible is present \\ndef demo1(): \\n    print(\"Here no local variable  is present : \", locals()) \\n      \\n# here local variables are present \\ndef demo2(): \\n    print(\"Here local variables are present : \", locals()) \\n       \\n# driver code \\ndemo1() \\ndemo2() ', '# Python program to understand about locals \\n  \\n# here no local varible is present \\ndef demo1(): \\n    print(\"Here no local variable  is present : \", locals()) \\n      \\n# here local variables are present \\ndef demo2(): \\n    print(\"Here local variables are present : \", locals()) \\n       \\n# driver code \\ndemo1() \\ndemo2() ', '# Python program to understand about locals \\n  \\n# here no local varible is present \\ndef demo1(): \\n    print(\"Here no local variable  is present : \", locals()) \\n      \\n# here local variables are present \\ndef demo2(): \\n     name = \"Ankit\"\\n     print(\"Here local variables are present : \", locals()) \\n       \\n# driver code \\ndemo1() \\ndemo2() ', '# Python program to understand about locals \\n  \\n# here no local varible is present \\ndef demo1(): \\n    print(\"Here no local variable  is present : \", locals()) \\n    print(\"Here no global variable  is present : \", globals())   \\n# here local variables are present \\ndef demo2(): \\n    name = \"Ankit\"\\n    print(\"Here local variables are present : \", locals()) \\n    print(\"Here no global variable  is present : \", globals())   \\n# driver code \\ndemo1() \\ndemo2() '], '_oh': {12: <module 'math' (built-in)>, 13: <module 'math' (built-in)>}, '_dh': ['C:\\\\Users\\\\Brian.Ho\\\\Smart-Sel'], 'In': ['', 'def print_func( par ):\\n   print(\"Hello : \", par)\\n   return', 'print(print_func(1))', 'import datetime\\noTime = datetime.datetime.now()\\nprint(oTime.isoformat())', 'Money = 2000\\ndef AddMoney():\\n   # Uncomment the following line to fix the code:\\n    # global Money\\n    Money = Money + 1\\n\\nprint(Money)\\nAddMoney()\\nprint(Money)', 'Money = 2000\\n\\ndef AddMoney():\\n   # Uncomment the following line to fix the code:\\n    global Money\\n    Money = Money + 1\\n\\nprint(Money)\\nAddMoney()\\nprint(Money)', 'Money = 2000\\n\\ndef AddMoney():\\n   # Uncomment the following line to fix the code:\\n    # global Money\\n    Money = Money + 1\\n\\nprint(Money)\\nAddMoney()\\nprint(Money)', 'Money = 2000\\n\\ndef AddMoney():\\n   # Uncomment the following line to fix the code:\\n    global Money\\n    Money = Money + 1\\n\\nprint(Money)\\nAddMoney()\\nprint(Money)', 'reload(math)', 'import importlib\\nimportlib.reload(math)', 'def print_func( par ):\\n   print(\"Hello : \", par)\\n   return', 'import importlib\\nimportlib.reload(print_func)', 'import importlib\\nimport math\\n\\n\\nimportlib.reload(math)', 'import importlib\\n\\nimportlib.reload(math)', 'from pprint import pprint\\n \\na = 10\\nb = 20\\n \\ndef foo():\\nx = 30 # x and y are local variables\\ny = 40\\nprint(\"locals() = {0}\".format(locals()))\\n \\n \\npprint(locals()) # same as calling globals()\\n \\nprint(\\'*\\' * 80)\\n \\nprint(\"locals() == globals()? \", locals() == globals())\\n \\nprint(\\'*\\' * 80)\\n \\nfoo()', 'from pprint import pprint\\n \\na = 10\\nb = 20\\n \\ndef foo():\\n    x = 30 # x and y are local variables\\n    y = 40\\n    print(\"locals() = {0}\".format(locals()))\\n \\n \\npprint(locals()) # same as calling globals()\\n \\nprint(\\'*\\' * 80)\\n \\nprint(\"locals() == globals()? \", locals() == globals())\\n \\nprint(\\'*\\' * 80)\\n \\nfoo()', 'from pprint import pprint\\n \\na = 10\\nb = 20\\n \\ndef foo():\\n    x = 30 # x and y are local variables\\n    y = 40\\n    print(\"locals() = {0}\".format(locals()))\\n \\n \\npprint(locals()) # same as calling globals()\\n \\nprint(\\'*\\' * 80)\\n \\nprint(\"locals() == globals()? \", locals() == globals())\\n \\nprint(\\'*\\' * 80)\\n \\nfoo()', '# Python program to understand about locals \\n  \\n# here no local varible is present \\ndef demo1(): \\n    print(\"Here no local variable  is present : \", locals()) \\n      \\n# here local variables are present \\ndef demo2(): \\n     name = \"Ankit\"\\n     print(\"Here local variables are present : \", locals()) \\n       \\n# driver code \\ndemo1() \\ndemo2() ', '# Python program to understand about locals \\n  \\n# here no local varible is present \\ndef demo1(): \\n    print(\"Here no local variable  is present : \", locals()) \\n      \\n# here local variables are present \\ndef demo2(): \\n    print(\"Here local variables are present : \", locals()) \\n       \\n# driver code \\ndemo1() \\ndemo2() ', '# Python program to understand about locals \\n  \\n# here no local varible is present \\ndef demo1(): \\n    print(\"Here no local variable  is present : \", locals()) \\n      \\n# here local variables are present \\ndef demo2(): \\n    print(\"Here local variables are present : \", locals()) \\n       \\n# driver code \\ndemo1() \\ndemo2() ', '# Python program to understand about locals \\n  \\n# here no local varible is present \\ndef demo1(): \\n    print(\"Here no local variable  is present : \", locals()) \\n      \\n# here local variables are present \\ndef demo2(): \\n     name = \"Ankit\"\\n     print(\"Here local variables are present : \", locals()) \\n       \\n# driver code \\ndemo1() \\ndemo2() ', '# Python program to understand about locals \\n  \\n# here no local varible is present \\ndef demo1(): \\n    print(\"Here no local variable  is present : \", locals()) \\n    print(\"Here no global variable  is present : \", globals())   \\n# here local variables are present \\ndef demo2(): \\n    name = \"Ankit\"\\n    print(\"Here local variables are present : \", locals()) \\n    print(\"Here no global variable  is present : \", globals())   \\n# driver code \\ndemo1() \\ndemo2() '], 'Out': {12: <module 'math' (built-in)>, 13: <module 'math' (built-in)>}, 'get_ipython': <bound method InteractiveShell.get_ipython of <ipykernel.zmqshell.ZMQInteractiveShell object at 0x00000137B418A7F0>>, 'exit': <IPython.core.autocall.ZMQExitAutocall object at 0x00000137B8DC81D0>, 'quit': <IPython.core.autocall.ZMQExitAutocall object at 0x00000137B8DC81D0>, '_': <module 'math' (built-in)>, '__': <module 'math' (built-in)>, '___': '', '_i': '# Python program to understand about locals \\n  \\n# here no local varible is present \\ndef demo1(): \\n    print(\"Here no local variable  is present : \", locals()) \\n      \\n# here local variables are present \\ndef demo2(): \\n     name = \"Ankit\"\\n     print(\"Here local variables are present : \", locals()) \\n       \\n# driver code \\ndemo1() \\ndemo2() ', '_ii': '# Python program to understand about locals \\n  \\n# here no local varible is present \\ndef demo1(): \\n    print(\"Here no local variable  is present : \", locals()) \\n      \\n# here local variables are present \\ndef demo2(): \\n    print(\"Here local variables are present : \", locals()) \\n       \\n# driver code \\ndemo1() \\ndemo2() ', '_iii': '# Python program to understand about locals \\n  \\n# here no local varible is present \\ndef demo1(): \\n    print(\"Here no local variable  is present : \", locals()) \\n      \\n# here local variables are present \\ndef demo2(): \\n    print(\"Here local variables are present : \", locals()) \\n       \\n# driver code \\ndemo1() \\ndemo2() ', '_i1': 'def print_func( par ):\\n   print(\"Hello : \", par)\\n   return', 'print_func': <function print_func at 0x00000137B8F50620>, '_i2': 'print(print_func(1))', '_i3': 'import datetime\\noTime = datetime.datetime.now()\\nprint(oTime.isoformat())', 'datetime': <module 'datetime' from 'C:\\\\Users\\\\Brian.Ho\\\\Anaconda3\\\\lib\\\\datetime.py'>, 'oTime': datetime.datetime(2019, 7, 18, 13, 50, 58, 811500), '_i4': 'Money = 2000\\ndef AddMoney():\\n   # Uncomment the following line to fix the code:\\n    # global Money\\n    Money = Money + 1\\n\\nprint(Money)\\nAddMoney()\\nprint(Money)', 'Money': 2001, 'AddMoney': <function AddMoney at 0x00000137B8F50730>, '_i5': 'Money = 2000\\n\\ndef AddMoney():\\n   # Uncomment the following line to fix the code:\\n    global Money\\n    Money = Money + 1\\n\\nprint(Money)\\nAddMoney()\\nprint(Money)', '_i6': 'Money = 2000\\n\\ndef AddMoney():\\n   # Uncomment the following line to fix the code:\\n    # global Money\\n    Money = Money + 1\\n\\nprint(Money)\\nAddMoney()\\nprint(Money)', '_i7': 'Money = 2000\\n\\ndef AddMoney():\\n   # Uncomment the following line to fix the code:\\n    global Money\\n    Money = Money + 1\\n\\nprint(Money)\\nAddMoney()\\nprint(Money)', '_i8': 'reload(math)', '_i9': 'import importlib\\nimportlib.reload(math)', 'importlib': <module 'importlib' from 'C:\\\\Users\\\\Brian.Ho\\\\Anaconda3\\\\lib\\\\importlib\\\\__init__.py'>, '_i10': 'def print_func( par ):\\n   print(\"Hello : \", par)\\n   return', '_i11': 'import importlib\\nimportlib.reload(print_func)', '_i12': 'import importlib\\nimport math\\n\\n\\nimportlib.reload(math)', 'math': <module 'math' (built-in)>, '_12': <module 'math' (built-in)>, '_i13': 'import importlib\\n\\nimportlib.reload(math)', '_13': <module 'math' (built-in)>, '_i14': 'from pprint import pprint\\n \\na = 10\\nb = 20\\n \\ndef foo():\\nx = 30 # x and y are local variables\\ny = 40\\nprint(\"locals() = {0}\".format(locals()))\\n \\n \\npprint(locals()) # same as calling globals()\\n \\nprint(\\'*\\' * 80)\\n \\nprint(\"locals() == globals()? \", locals() == globals())\\n \\nprint(\\'*\\' * 80)\\n \\nfoo()', '_i15': 'from pprint import pprint\\n \\na = 10\\nb = 20\\n \\ndef foo():\\n    x = 30 # x and y are local variables\\n    y = 40\\n    print(\"locals() = {0}\".format(locals()))\\n \\n \\npprint(locals()) # same as calling globals()\\n \\nprint(\\'*\\' * 80)\\n \\nprint(\"locals() == globals()? \", locals() == globals())\\n \\nprint(\\'*\\' * 80)\\n \\nfoo()', 'pprint': <function pprint at 0x00000137B6559400>, 'a': 10, 'b': 20, 'foo': <function foo at 0x00000137B8F50AE8>, '_i16': 'from pprint import pprint\\n \\na = 10\\nb = 20\\n \\ndef foo():\\n    x = 30 # x and y are local variables\\n    y = 40\\n    print(\"locals() = {0}\".format(locals()))\\n \\n \\npprint(locals()) # same as calling globals()\\n \\nprint(\\'*\\' * 80)\\n \\nprint(\"locals() == globals()? \", locals() == globals())\\n \\nprint(\\'*\\' * 80)\\n \\nfoo()', '_i17': '# Python program to understand about locals \\n  \\n# here no local varible is present \\ndef demo1(): \\n    print(\"Here no local variable  is present : \", locals()) \\n      \\n# here local variables are present \\ndef demo2(): \\n     name = \"Ankit\"\\n     print(\"Here local variables are present : \", locals()) \\n       \\n# driver code \\ndemo1() \\ndemo2() ', 'demo1': <function demo1 at 0x00000137B8F50840>, 'demo2': <function demo2 at 0x00000137B8F50BF8>, '_i18': '# Python program to understand about locals \\n  \\n# here no local varible is present \\ndef demo1(): \\n    print(\"Here no local variable  is present : \", locals()) \\n      \\n# here local variables are present \\ndef demo2(): \\n    print(\"Here local variables are present : \", locals()) \\n       \\n# driver code \\ndemo1() \\ndemo2() ', '_i19': '# Python program to understand about locals \\n  \\n# here no local varible is present \\ndef demo1(): \\n    print(\"Here no local variable  is present : \", locals()) \\n      \\n# here local variables are present \\ndef demo2(): \\n    print(\"Here local variables are present : \", locals()) \\n       \\n# driver code \\ndemo1() \\ndemo2() ', '_i20': '# Python program to understand about locals \\n  \\n# here no local varible is present \\ndef demo1(): \\n    print(\"Here no local variable  is present : \", locals()) \\n      \\n# here local variables are present \\ndef demo2(): \\n     name = \"Ankit\"\\n     print(\"Here local variables are present : \", locals()) \\n       \\n# driver code \\ndemo1() \\ndemo2() ', '_i21': '# Python program to understand about locals \\n  \\n# here no local varible is present \\ndef demo1(): \\n    print(\"Here no local variable  is present : \", locals()) \\n    print(\"Here no global variable  is present : \", globals())   \\n# here local variables are present \\ndef demo2(): \\n    name = \"Ankit\"\\n    print(\"Here local variables are present : \", locals()) \\n    print(\"Here no global variable  is present : \", globals())   \\n# driver code \\ndemo1() \\ndemo2() '}\n",
      "Here local variables are present :  {'name': 'Ankit'}\n",
      "Here no global variable  is present :  {'__name__': '__main__', '__doc__': 'Automatically created module for IPython interactive environment', '__package__': None, '__loader__': None, '__spec__': None, '__builtin__': <module 'builtins' (built-in)>, '__builtins__': <module 'builtins' (built-in)>, '_ih': ['', 'def print_func( par ):\\n   print(\"Hello : \", par)\\n   return', 'print(print_func(1))', 'import datetime\\noTime = datetime.datetime.now()\\nprint(oTime.isoformat())', 'Money = 2000\\ndef AddMoney():\\n   # Uncomment the following line to fix the code:\\n    # global Money\\n    Money = Money + 1\\n\\nprint(Money)\\nAddMoney()\\nprint(Money)', 'Money = 2000\\n\\ndef AddMoney():\\n   # Uncomment the following line to fix the code:\\n    global Money\\n    Money = Money + 1\\n\\nprint(Money)\\nAddMoney()\\nprint(Money)', 'Money = 2000\\n\\ndef AddMoney():\\n   # Uncomment the following line to fix the code:\\n    # global Money\\n    Money = Money + 1\\n\\nprint(Money)\\nAddMoney()\\nprint(Money)', 'Money = 2000\\n\\ndef AddMoney():\\n   # Uncomment the following line to fix the code:\\n    global Money\\n    Money = Money + 1\\n\\nprint(Money)\\nAddMoney()\\nprint(Money)', 'reload(math)', 'import importlib\\nimportlib.reload(math)', 'def print_func( par ):\\n   print(\"Hello : \", par)\\n   return', 'import importlib\\nimportlib.reload(print_func)', 'import importlib\\nimport math\\n\\n\\nimportlib.reload(math)', 'import importlib\\n\\nimportlib.reload(math)', 'from pprint import pprint\\n \\na = 10\\nb = 20\\n \\ndef foo():\\nx = 30 # x and y are local variables\\ny = 40\\nprint(\"locals() = {0}\".format(locals()))\\n \\n \\npprint(locals()) # same as calling globals()\\n \\nprint(\\'*\\' * 80)\\n \\nprint(\"locals() == globals()? \", locals() == globals())\\n \\nprint(\\'*\\' * 80)\\n \\nfoo()', 'from pprint import pprint\\n \\na = 10\\nb = 20\\n \\ndef foo():\\n    x = 30 # x and y are local variables\\n    y = 40\\n    print(\"locals() = {0}\".format(locals()))\\n \\n \\npprint(locals()) # same as calling globals()\\n \\nprint(\\'*\\' * 80)\\n \\nprint(\"locals() == globals()? \", locals() == globals())\\n \\nprint(\\'*\\' * 80)\\n \\nfoo()', 'from pprint import pprint\\n \\na = 10\\nb = 20\\n \\ndef foo():\\n    x = 30 # x and y are local variables\\n    y = 40\\n    print(\"locals() = {0}\".format(locals()))\\n \\n \\npprint(locals()) # same as calling globals()\\n \\nprint(\\'*\\' * 80)\\n \\nprint(\"locals() == globals()? \", locals() == globals())\\n \\nprint(\\'*\\' * 80)\\n \\nfoo()', '# Python program to understand about locals \\n  \\n# here no local varible is present \\ndef demo1(): \\n    print(\"Here no local variable  is present : \", locals()) \\n      \\n# here local variables are present \\ndef demo2(): \\n     name = \"Ankit\"\\n     print(\"Here local variables are present : \", locals()) \\n       \\n# driver code \\ndemo1() \\ndemo2() ', '# Python program to understand about locals \\n  \\n# here no local varible is present \\ndef demo1(): \\n    print(\"Here no local variable  is present : \", locals()) \\n      \\n# here local variables are present \\ndef demo2(): \\n    print(\"Here local variables are present : \", locals()) \\n       \\n# driver code \\ndemo1() \\ndemo2() ', '# Python program to understand about locals \\n  \\n# here no local varible is present \\ndef demo1(): \\n    print(\"Here no local variable  is present : \", locals()) \\n      \\n# here local variables are present \\ndef demo2(): \\n    print(\"Here local variables are present : \", locals()) \\n       \\n# driver code \\ndemo1() \\ndemo2() ', '# Python program to understand about locals \\n  \\n# here no local varible is present \\ndef demo1(): \\n    print(\"Here no local variable  is present : \", locals()) \\n      \\n# here local variables are present \\ndef demo2(): \\n     name = \"Ankit\"\\n     print(\"Here local variables are present : \", locals()) \\n       \\n# driver code \\ndemo1() \\ndemo2() ', '# Python program to understand about locals \\n  \\n# here no local varible is present \\ndef demo1(): \\n    print(\"Here no local variable  is present : \", locals()) \\n    print(\"Here no global variable  is present : \", globals())   \\n# here local variables are present \\ndef demo2(): \\n    name = \"Ankit\"\\n    print(\"Here local variables are present : \", locals()) \\n    print(\"Here no global variable  is present : \", globals())   \\n# driver code \\ndemo1() \\ndemo2() '], '_oh': {12: <module 'math' (built-in)>, 13: <module 'math' (built-in)>}, '_dh': ['C:\\\\Users\\\\Brian.Ho\\\\Smart-Sel'], 'In': ['', 'def print_func( par ):\\n   print(\"Hello : \", par)\\n   return', 'print(print_func(1))', 'import datetime\\noTime = datetime.datetime.now()\\nprint(oTime.isoformat())', 'Money = 2000\\ndef AddMoney():\\n   # Uncomment the following line to fix the code:\\n    # global Money\\n    Money = Money + 1\\n\\nprint(Money)\\nAddMoney()\\nprint(Money)', 'Money = 2000\\n\\ndef AddMoney():\\n   # Uncomment the following line to fix the code:\\n    global Money\\n    Money = Money + 1\\n\\nprint(Money)\\nAddMoney()\\nprint(Money)', 'Money = 2000\\n\\ndef AddMoney():\\n   # Uncomment the following line to fix the code:\\n    # global Money\\n    Money = Money + 1\\n\\nprint(Money)\\nAddMoney()\\nprint(Money)', 'Money = 2000\\n\\ndef AddMoney():\\n   # Uncomment the following line to fix the code:\\n    global Money\\n    Money = Money + 1\\n\\nprint(Money)\\nAddMoney()\\nprint(Money)', 'reload(math)', 'import importlib\\nimportlib.reload(math)', 'def print_func( par ):\\n   print(\"Hello : \", par)\\n   return', 'import importlib\\nimportlib.reload(print_func)', 'import importlib\\nimport math\\n\\n\\nimportlib.reload(math)', 'import importlib\\n\\nimportlib.reload(math)', 'from pprint import pprint\\n \\na = 10\\nb = 20\\n \\ndef foo():\\nx = 30 # x and y are local variables\\ny = 40\\nprint(\"locals() = {0}\".format(locals()))\\n \\n \\npprint(locals()) # same as calling globals()\\n \\nprint(\\'*\\' * 80)\\n \\nprint(\"locals() == globals()? \", locals() == globals())\\n \\nprint(\\'*\\' * 80)\\n \\nfoo()', 'from pprint import pprint\\n \\na = 10\\nb = 20\\n \\ndef foo():\\n    x = 30 # x and y are local variables\\n    y = 40\\n    print(\"locals() = {0}\".format(locals()))\\n \\n \\npprint(locals()) # same as calling globals()\\n \\nprint(\\'*\\' * 80)\\n \\nprint(\"locals() == globals()? \", locals() == globals())\\n \\nprint(\\'*\\' * 80)\\n \\nfoo()', 'from pprint import pprint\\n \\na = 10\\nb = 20\\n \\ndef foo():\\n    x = 30 # x and y are local variables\\n    y = 40\\n    print(\"locals() = {0}\".format(locals()))\\n \\n \\npprint(locals()) # same as calling globals()\\n \\nprint(\\'*\\' * 80)\\n \\nprint(\"locals() == globals()? \", locals() == globals())\\n \\nprint(\\'*\\' * 80)\\n \\nfoo()', '# Python program to understand about locals \\n  \\n# here no local varible is present \\ndef demo1(): \\n    print(\"Here no local variable  is present : \", locals()) \\n      \\n# here local variables are present \\ndef demo2(): \\n     name = \"Ankit\"\\n     print(\"Here local variables are present : \", locals()) \\n       \\n# driver code \\ndemo1() \\ndemo2() ', '# Python program to understand about locals \\n  \\n# here no local varible is present \\ndef demo1(): \\n    print(\"Here no local variable  is present : \", locals()) \\n      \\n# here local variables are present \\ndef demo2(): \\n    print(\"Here local variables are present : \", locals()) \\n       \\n# driver code \\ndemo1() \\ndemo2() ', '# Python program to understand about locals \\n  \\n# here no local varible is present \\ndef demo1(): \\n    print(\"Here no local variable  is present : \", locals()) \\n      \\n# here local variables are present \\ndef demo2(): \\n    print(\"Here local variables are present : \", locals()) \\n       \\n# driver code \\ndemo1() \\ndemo2() ', '# Python program to understand about locals \\n  \\n# here no local varible is present \\ndef demo1(): \\n    print(\"Here no local variable  is present : \", locals()) \\n      \\n# here local variables are present \\ndef demo2(): \\n     name = \"Ankit\"\\n     print(\"Here local variables are present : \", locals()) \\n       \\n# driver code \\ndemo1() \\ndemo2() ', '# Python program to understand about locals \\n  \\n# here no local varible is present \\ndef demo1(): \\n    print(\"Here no local variable  is present : \", locals()) \\n    print(\"Here no global variable  is present : \", globals())   \\n# here local variables are present \\ndef demo2(): \\n    name = \"Ankit\"\\n    print(\"Here local variables are present : \", locals()) \\n    print(\"Here no global variable  is present : \", globals())   \\n# driver code \\ndemo1() \\ndemo2() '], 'Out': {12: <module 'math' (built-in)>, 13: <module 'math' (built-in)>}, 'get_ipython': <bound method InteractiveShell.get_ipython of <ipykernel.zmqshell.ZMQInteractiveShell object at 0x00000137B418A7F0>>, 'exit': <IPython.core.autocall.ZMQExitAutocall object at 0x00000137B8DC81D0>, 'quit': <IPython.core.autocall.ZMQExitAutocall object at 0x00000137B8DC81D0>, '_': <module 'math' (built-in)>, '__': <module 'math' (built-in)>, '___': '', '_i': '# Python program to understand about locals \\n  \\n# here no local varible is present \\ndef demo1(): \\n    print(\"Here no local variable  is present : \", locals()) \\n      \\n# here local variables are present \\ndef demo2(): \\n     name = \"Ankit\"\\n     print(\"Here local variables are present : \", locals()) \\n       \\n# driver code \\ndemo1() \\ndemo2() ', '_ii': '# Python program to understand about locals \\n  \\n# here no local varible is present \\ndef demo1(): \\n    print(\"Here no local variable  is present : \", locals()) \\n      \\n# here local variables are present \\ndef demo2(): \\n    print(\"Here local variables are present : \", locals()) \\n       \\n# driver code \\ndemo1() \\ndemo2() ', '_iii': '# Python program to understand about locals \\n  \\n# here no local varible is present \\ndef demo1(): \\n    print(\"Here no local variable  is present : \", locals()) \\n      \\n# here local variables are present \\ndef demo2(): \\n    print(\"Here local variables are present : \", locals()) \\n       \\n# driver code \\ndemo1() \\ndemo2() ', '_i1': 'def print_func( par ):\\n   print(\"Hello : \", par)\\n   return', 'print_func': <function print_func at 0x00000137B8F50620>, '_i2': 'print(print_func(1))', '_i3': 'import datetime\\noTime = datetime.datetime.now()\\nprint(oTime.isoformat())', 'datetime': <module 'datetime' from 'C:\\\\Users\\\\Brian.Ho\\\\Anaconda3\\\\lib\\\\datetime.py'>, 'oTime': datetime.datetime(2019, 7, 18, 13, 50, 58, 811500), '_i4': 'Money = 2000\\ndef AddMoney():\\n   # Uncomment the following line to fix the code:\\n    # global Money\\n    Money = Money + 1\\n\\nprint(Money)\\nAddMoney()\\nprint(Money)', 'Money': 2001, 'AddMoney': <function AddMoney at 0x00000137B8F50730>, '_i5': 'Money = 2000\\n\\ndef AddMoney():\\n   # Uncomment the following line to fix the code:\\n    global Money\\n    Money = Money + 1\\n\\nprint(Money)\\nAddMoney()\\nprint(Money)', '_i6': 'Money = 2000\\n\\ndef AddMoney():\\n   # Uncomment the following line to fix the code:\\n    # global Money\\n    Money = Money + 1\\n\\nprint(Money)\\nAddMoney()\\nprint(Money)', '_i7': 'Money = 2000\\n\\ndef AddMoney():\\n   # Uncomment the following line to fix the code:\\n    global Money\\n    Money = Money + 1\\n\\nprint(Money)\\nAddMoney()\\nprint(Money)', '_i8': 'reload(math)', '_i9': 'import importlib\\nimportlib.reload(math)', 'importlib': <module 'importlib' from 'C:\\\\Users\\\\Brian.Ho\\\\Anaconda3\\\\lib\\\\importlib\\\\__init__.py'>, '_i10': 'def print_func( par ):\\n   print(\"Hello : \", par)\\n   return', '_i11': 'import importlib\\nimportlib.reload(print_func)', '_i12': 'import importlib\\nimport math\\n\\n\\nimportlib.reload(math)', 'math': <module 'math' (built-in)>, '_12': <module 'math' (built-in)>, '_i13': 'import importlib\\n\\nimportlib.reload(math)', '_13': <module 'math' (built-in)>, '_i14': 'from pprint import pprint\\n \\na = 10\\nb = 20\\n \\ndef foo():\\nx = 30 # x and y are local variables\\ny = 40\\nprint(\"locals() = {0}\".format(locals()))\\n \\n \\npprint(locals()) # same as calling globals()\\n \\nprint(\\'*\\' * 80)\\n \\nprint(\"locals() == globals()? \", locals() == globals())\\n \\nprint(\\'*\\' * 80)\\n \\nfoo()', '_i15': 'from pprint import pprint\\n \\na = 10\\nb = 20\\n \\ndef foo():\\n    x = 30 # x and y are local variables\\n    y = 40\\n    print(\"locals() = {0}\".format(locals()))\\n \\n \\npprint(locals()) # same as calling globals()\\n \\nprint(\\'*\\' * 80)\\n \\nprint(\"locals() == globals()? \", locals() == globals())\\n \\nprint(\\'*\\' * 80)\\n \\nfoo()', 'pprint': <function pprint at 0x00000137B6559400>, 'a': 10, 'b': 20, 'foo': <function foo at 0x00000137B8F50AE8>, '_i16': 'from pprint import pprint\\n \\na = 10\\nb = 20\\n \\ndef foo():\\n    x = 30 # x and y are local variables\\n    y = 40\\n    print(\"locals() = {0}\".format(locals()))\\n \\n \\npprint(locals()) # same as calling globals()\\n \\nprint(\\'*\\' * 80)\\n \\nprint(\"locals() == globals()? \", locals() == globals())\\n \\nprint(\\'*\\' * 80)\\n \\nfoo()', '_i17': '# Python program to understand about locals \\n  \\n# here no local varible is present \\ndef demo1(): \\n    print(\"Here no local variable  is present : \", locals()) \\n      \\n# here local variables are present \\ndef demo2(): \\n     name = \"Ankit\"\\n     print(\"Here local variables are present : \", locals()) \\n       \\n# driver code \\ndemo1() \\ndemo2() ', 'demo1': <function demo1 at 0x00000137B8F50840>, 'demo2': <function demo2 at 0x00000137B8F50BF8>, '_i18': '# Python program to understand about locals \\n  \\n# here no local varible is present \\ndef demo1(): \\n    print(\"Here no local variable  is present : \", locals()) \\n      \\n# here local variables are present \\ndef demo2(): \\n    print(\"Here local variables are present : \", locals()) \\n       \\n# driver code \\ndemo1() \\ndemo2() ', '_i19': '# Python program to understand about locals \\n  \\n# here no local varible is present \\ndef demo1(): \\n    print(\"Here no local variable  is present : \", locals()) \\n      \\n# here local variables are present \\ndef demo2(): \\n    print(\"Here local variables are present : \", locals()) \\n       \\n# driver code \\ndemo1() \\ndemo2() ', '_i20': '# Python program to understand about locals \\n  \\n# here no local varible is present \\ndef demo1(): \\n    print(\"Here no local variable  is present : \", locals()) \\n      \\n# here local variables are present \\ndef demo2(): \\n     name = \"Ankit\"\\n     print(\"Here local variables are present : \", locals()) \\n       \\n# driver code \\ndemo1() \\ndemo2() ', '_i21': '# Python program to understand about locals \\n  \\n# here no local varible is present \\ndef demo1(): \\n    print(\"Here no local variable  is present : \", locals()) \\n    print(\"Here no global variable  is present : \", globals())   \\n# here local variables are present \\ndef demo2(): \\n    name = \"Ankit\"\\n    print(\"Here local variables are present : \", locals()) \\n    print(\"Here no global variable  is present : \", globals())   \\n# driver code \\ndemo1() \\ndemo2() '}\n"
     ]
    }
   ],
   "source": [
    "# Python program to understand about locals \n",
    "  \n",
    "# here no local varible is present \n",
    "def demo1(): \n",
    "    print(\"Here no local variable  is present : \", locals()) \n",
    "    #print(\"Here no global variable  is present : \", globals())   \n",
    "# here local variables are present \n",
    "def demo2(): \n",
    "    name = \"Ankit\"\n",
    "    print(\"Here local variables are present : \", locals()) \n",
    "    #print(\"Here no global variable  is present : \", globals())   \n",
    "# driver code \n",
    "demo1() \n",
    "demo2() "
   ]
  },
  {
   "cell_type": "markdown",
   "metadata": {},
   "source": [
    "## The reload() Function\n",
    "When the module is imported into a script, the code in the top-level portion of a module is executed only once.  <br>\n",
    "Therefore, if you want to reexecute the top-level code in a module, you can use the reload() function. The reload() function imports a previously imported module again. The syntax of the reload() function is this −  <br>\n",
    "\n",
    "import importlib\n",
    "importlib.reload(module_name)\n",
    "\n",
    "Here, module_name is the name of the module you want to reload and not the string containing the module name. For example, to reload hello module, do the following −  <br>\n",
    "\n",
    "import importlib\n",
    "importlib.reload(hello)"
   ]
  },
  {
   "cell_type": "code",
   "execution_count": 13,
   "metadata": {},
   "outputs": [
    {
     "data": {
      "text/plain": [
       "<module 'math' (built-in)>"
      ]
     },
     "execution_count": 13,
     "metadata": {},
     "output_type": "execute_result"
    }
   ],
   "source": [
    "import importlib\n",
    "\n",
    "importlib.reload(math)"
   ]
  }
 ],
 "metadata": {
  "kernelspec": {
   "display_name": "Python 3",
   "language": "python",
   "name": "python3"
  },
  "language_info": {
   "codemirror_mode": {
    "name": "ipython",
    "version": 3
   },
   "file_extension": ".py",
   "mimetype": "text/x-python",
   "name": "python",
   "nbconvert_exporter": "python",
   "pygments_lexer": "ipython3",
   "version": "3.6.8"
  }
 },
 "nbformat": 4,
 "nbformat_minor": 2
}
