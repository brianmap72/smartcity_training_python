{
 "cells": [
  {
   "cell_type": "markdown",
   "metadata": {},
   "source": [
    "## Python Exceptions Handling\n",
    "\n",
    "What are exceptions in Python? <br>\n",
    "\n",
    "Python has <b>many built-in exceptions</b> which forces your program to output an error when something in it goes wrong. <br>\n",
    "When these exceptions occur, <b>it causes the current process to stop and passes it to the calling process </b> until it is handled. If not handled, our program will crash. <br>\n",
    "\n",
    "For example, if function A calls function B which in turn calls function C and an exception occurs in function C. If it is not handled in C, the exception passes to B and then to A. <br>\n",
    "\n",
    "If never handled, an error message is spit out and our program come to a sudden, unexpected halt."
   ]
  },
  {
   "cell_type": "markdown",
   "metadata": {},
   "source": [
    "## Catching Exceptions in Python\n",
    "In Python, exceptions can be handled using a try statement. <br>\n",
    "\n",
    "A *critical operation* which can raise exception is placed inside the try clause and the code that handles exception is written in except clause. <br>\n",
    "\n",
    "It is up to us, what operations we perform once we have caught the exception. Here is a simple example."
   ]
  },
  {
   "cell_type": "code",
   "execution_count": 2,
   "metadata": {},
   "outputs": [
    {
     "name": "stdout",
     "output_type": "stream",
     "text": [
      "The entry is a\n",
      "Oops! <class 'ValueError'> occured.\n",
      "Next entry.\n",
      "\n",
      "The entry is 0\n",
      "Oops! <class 'ZeroDivisionError'> occured.\n",
      "Next entry.\n",
      "\n",
      "The entry is 2\n",
      "The reciprocal of 2 is 0.5\n"
     ]
    }
   ],
   "source": [
    "# import module sys to get the type of exception\n",
    "import sys\n",
    "\n",
    "randomList = ['a', 0, 2]\n",
    "\n",
    "for entry in randomList:\n",
    "    try:\n",
    "        print(\"The entry is\", entry)\n",
    "        r = 1/int(entry)\n",
    "        break\n",
    "    except:\n",
    "        print(\"Oops!\",sys.exc_info()[0],\"occured.\")\n",
    "        print(\"Next entry.\")\n",
    "        print()\n",
    "        \n",
    "print(\"The reciprocal of\",entry,\"is\",r)"
   ]
  },
  {
   "cell_type": "code",
   "execution_count": 3,
   "metadata": {},
   "outputs": [
    {
     "name": "stdout",
     "output_type": "stream",
     "text": [
      "The entry is a\n"
     ]
    },
    {
     "ename": "ValueError",
     "evalue": "invalid literal for int() with base 10: 'a'",
     "output_type": "error",
     "traceback": [
      "\u001b[0;31m---------------------------------------------------------------------------\u001b[0m",
      "\u001b[0;31mValueError\u001b[0m                                Traceback (most recent call last)",
      "\u001b[0;32m<ipython-input-3-cb585485f23f>\u001b[0m in \u001b[0;36m<module>\u001b[0;34m\u001b[0m\n\u001b[1;32m      6\u001b[0m \u001b[0;32mfor\u001b[0m \u001b[0mentry\u001b[0m \u001b[0;32min\u001b[0m \u001b[0mrandomList\u001b[0m\u001b[0;34m:\u001b[0m\u001b[0;34m\u001b[0m\u001b[0;34m\u001b[0m\u001b[0m\n\u001b[1;32m      7\u001b[0m         \u001b[0mprint\u001b[0m\u001b[0;34m(\u001b[0m\u001b[0;34m\"The entry is\"\u001b[0m\u001b[0;34m,\u001b[0m \u001b[0mentry\u001b[0m\u001b[0;34m)\u001b[0m\u001b[0;34m\u001b[0m\u001b[0;34m\u001b[0m\u001b[0m\n\u001b[0;32m----> 8\u001b[0;31m         \u001b[0mr\u001b[0m \u001b[0;34m=\u001b[0m \u001b[0;36m1\u001b[0m\u001b[0;34m/\u001b[0m\u001b[0mint\u001b[0m\u001b[0;34m(\u001b[0m\u001b[0mentry\u001b[0m\u001b[0;34m)\u001b[0m\u001b[0;34m\u001b[0m\u001b[0;34m\u001b[0m\u001b[0m\n\u001b[0m\u001b[1;32m      9\u001b[0m         \u001b[0;32mbreak\u001b[0m\u001b[0;34m\u001b[0m\u001b[0;34m\u001b[0m\u001b[0m\n\u001b[1;32m     10\u001b[0m \u001b[0;34m\u001b[0m\u001b[0m\n",
      "\u001b[0;31mValueError\u001b[0m: invalid literal for int() with base 10: 'a'"
     ]
    }
   ],
   "source": [
    "# import module sys to get the type of exception\n",
    "import sys\n",
    "\n",
    "randomList = ['a', 0, 2]\n",
    "\n",
    "for entry in randomList:\n",
    "        print(\"The entry is\", entry)\n",
    "        r = 1/int(entry)\n",
    "        break\n",
    "      \n",
    "print(\"The reciprocal of\",entry,\"is\",r)"
   ]
  },
  {
   "cell_type": "markdown",
   "metadata": {},
   "source": [
    "## Catching Specific Exceptions in Python\n",
    "In the above example, we did not mention any exception in the except clause. <br>\n",
    "\n",
    "This is not a good programming practice as it will catch all exceptions and handle every case in the same way. We can specify which exceptions an except clause will catch. <br>\n",
    "\n",
    "A try clause can have any number of except clause to handle them differently but only one will be executed in case an exception occurs. <br>\n",
    "\n",
    "We can use a tuple of values to specify multiple exceptions in an except clause. Here is an example pseudo code.\n",
    "\n",
    "<img src=\"pic30.png\">"
   ]
  },
  {
   "cell_type": "markdown",
   "metadata": {},
   "source": [
    "- Python try-except Block\n",
    "- Multiple Exception Handling in Python\n",
    "- Python finally Block – When Exception Occurs\n",
    "- Python finally Block – When No Exception\n",
    "- Python Nested try-except Block"
   ]
  },
  {
   "cell_type": "markdown",
   "metadata": {},
   "source": [
    "## 1. Python try-except Block\n",
    "The keywords involved in handling of exceptions are try, except and finally. <br>\n",
    "Try block must be followed by an except block. Addition of finally block is optional. <br>\n",
    "The statements in the try block are executed line by line. If execution of any statement throws an exception. The remaining statements in this block are skipped and execution of except block starts."
   ]
  },
  {
   "cell_type": "code",
   "execution_count": 4,
   "metadata": {},
   "outputs": [
    {
     "name": "stdout",
     "output_type": "stream",
     "text": [
      "inside try\n",
      "inside except\n",
      "12hello\n",
      "Printed using type-casted data types\n"
     ]
    }
   ],
   "source": [
    "a = 12\n",
    "s = \"hello\"\n",
    "try:\n",
    "    print(\"inside try\")\n",
    "    print(a + s) # will raise TypeError\n",
    "    print(\"Printed using original data types\")\n",
    "except TypeError: # will handle only TypeError\n",
    "    print(\"inside except\")\n",
    "    print(str(a) + s)\n",
    "    print(\"Printed using type-casted data types\")"
   ]
  },
  {
   "cell_type": "markdown",
   "metadata": {},
   "source": [
    "Here TypeError was raised in the execution of line 2 inside try block. Hence execution of remaining statements was skipped and except block execution started. Note that the exceptions to be handled are mentioned along side the except keyword."
   ]
  },
  {
   "cell_type": "markdown",
   "metadata": {},
   "source": [
    "## 2. Multiple Exception Handling in Python\n",
    "Multiple exceptions can be handled using a single try-except block. This is done by mentioning the exception names, comma-separated inside parentheses, just after except keyword."
   ]
  },
  {
   "cell_type": "code",
   "execution_count": 4,
   "metadata": {},
   "outputs": [
    {
     "name": "stdout",
     "output_type": "stream",
     "text": [
      "Error occurred: 'int' object has no attribute 'append'\n"
     ]
    }
   ],
   "source": [
    "try:\n",
    "    if (3 + 4 - 5) > 0:\n",
    "        a = 3\n",
    "        a.append(\"hello\")  # throws AttributeError\n",
    "    else:\n",
    "        print(\"hello\" + 4)  # throws TypeError\n",
    "except (AttributeError, TypeError) as e:\n",
    "    print(\"Error occurred:\", e)"
   ]
  },
  {
   "cell_type": "markdown",
   "metadata": {},
   "source": [
    "## 3. Python finally Block – When Exception Occurs\n",
    "finally is the block that resides after except block. This block of statements is executed no matter whether an exception was encountered or not.\n",
    "Adding finally block to the previous example:"
   ]
  },
  {
   "cell_type": "code",
   "execution_count": 6,
   "metadata": {},
   "outputs": [
    {
     "name": "stdout",
     "output_type": "stream",
     "text": [
      "Error occurred: 'int' object has no attribute 'append'\n",
      "try except block successfully executed\n"
     ]
    }
   ],
   "source": [
    "try:\n",
    "    if (3 + 4 - 5) > 0:\n",
    "        a = 3\n",
    "        a.append(\"hello\")  # throws Attribute Error\n",
    "    else:\n",
    "        print(\"hello\" + 4)  # throws TypeError\n",
    "except (AttributeError, TypeError) as e:\n",
    "    print(\"Error occurred:\", e)\n",
    "finally:\n",
    "    print(\"try except block successfully executed\")"
   ]
  },
  {
   "cell_type": "markdown",
   "metadata": {},
   "source": [
    "## 4. Python finally Block – When No Exception\n",
    "Having a look at another example:"
   ]
  },
  {
   "cell_type": "code",
   "execution_count": 7,
   "metadata": {},
   "outputs": [
    {
     "name": "stdout",
     "output_type": "stream",
     "text": [
      "hello4\n",
      "try except block successfully executed\n"
     ]
    }
   ],
   "source": [
    "try:\n",
    "    if (3 + 4 - 5) < 0:\n",
    "        a = 3\n",
    "        print(a + 5)  # simple addition\n",
    "    else:\n",
    "        print(\"hello\" + \"4\")  # string concatenation\n",
    "except (AttributeError, TypeError) as e:\n",
    "    print(\"Error occurred:\", e)\n",
    "finally:\n",
    "    print(\"try except block successfully executed\")"
   ]
  },
  {
   "cell_type": "markdown",
   "metadata": {},
   "source": [
    "## 5. Python Nested try-except Block\n",
    "A try-except block can be surrounded by another try-except block."
   ]
  },
  {
   "cell_type": "code",
   "execution_count": 13,
   "metadata": {},
   "outputs": [
    {
     "name": "stdout",
     "output_type": "stream",
     "text": [
      "error occurred while parsing json: [Errno 2] No such file or directory: 'hello.json'\n"
     ]
    }
   ],
   "source": [
    "import json\n",
    "import sys\n",
    "\n",
    "try:\n",
    "    with open(\"hello.json\") as fp:\n",
    "        try:\n",
    "            json_dict = json.load(fp)\n",
    "        except json.JSONDecodeError:\n",
    "            print(\"Json file does not exist\")\n",
    "    print(json_dict)\n",
    "except:\n",
    "    print(\"error occurred while parsing json:\", sys.exc_info()[1])"
   ]
  }
 ],
 "metadata": {
  "kernelspec": {
   "display_name": "Python 3",
   "language": "python",
   "name": "python3"
  },
  "language_info": {
   "codemirror_mode": {
    "name": "ipython",
    "version": 3
   },
   "file_extension": ".py",
   "mimetype": "text/x-python",
   "name": "python",
   "nbconvert_exporter": "python",
   "pygments_lexer": "ipython3",
   "version": "3.6.8"
  }
 },
 "nbformat": 4,
 "nbformat_minor": 2
}
