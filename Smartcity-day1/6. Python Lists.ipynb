{
 "cells": [
  {
   "cell_type": "markdown",
   "metadata": {},
   "source": [
    "## Python Lists\n",
    "The list is a most versatile datatype available in Python which can be written as a list of comma-separated values (items) between square brackets. Important thing about a list is that items in a list <b>need not be of the same type</b>. <br>\n",
    "Creating a list is as simple as putting different comma-separated values between square brackets. For example −"
   ]
  },
  {
   "cell_type": "code",
   "execution_count": 1,
   "metadata": {},
   "outputs": [],
   "source": [
    "list1 = ['physics', 'chemistry', 1997, 2000];\n",
    "list2 = [1, 2, 3, 4, 5 ];\n",
    "list3 = [\"a\", \"b\", \"c\", \"d\"]"
   ]
  },
  {
   "cell_type": "markdown",
   "metadata": {},
   "source": [
    "Similar to string indices, list indices start at 0, and lists can be sliced, concatenated and so on."
   ]
  },
  {
   "cell_type": "markdown",
   "metadata": {},
   "source": [
    "## Accessing Values in Lists\n",
    "To access values in lists, use the square brackets for slicing along with the index or indices to obtain value available at that index. For example −"
   ]
  },
  {
   "cell_type": "code",
   "execution_count": 2,
   "metadata": {},
   "outputs": [
    {
     "name": "stdout",
     "output_type": "stream",
     "text": [
      "list1[0]:  physics\n",
      "list2[1:5]:  [2, 3, 4, 5]\n"
     ]
    }
   ],
   "source": [
    "list1 = ['physics', 'chemistry', 1997, 2000];\n",
    "list2 = [1, 2, 3, 4, 5, 6, 7 ];\n",
    "print(\"list1[0]: \", list1[0])\n",
    "print(\"list2[1:5]: \", list2[1:5])"
   ]
  },
  {
   "cell_type": "markdown",
   "metadata": {},
   "source": [
    "## Updating Lists\n",
    "You can update single or multiple elements of lists by giving the slice on the left-hand side of the assignment operator, and you can add to elements in a list with the append() method. For example −"
   ]
  },
  {
   "cell_type": "code",
   "execution_count": 1,
   "metadata": {},
   "outputs": [
    {
     "name": "stdout",
     "output_type": "stream",
     "text": [
      "Value available at index 2 : \n",
      "1997\n",
      "New value available at index 2 : \n",
      "2001\n"
     ]
    }
   ],
   "source": [
    "list = ['physics', 'chemistry', 1997, 2000];\n",
    "print(\"Value available at index 2 : \")\n",
    "print(list[2])\n",
    "list[2] = 2001\n",
    "print(\"New value available at index 2 : \")\n",
    "print(list[2])"
   ]
  },
  {
   "cell_type": "markdown",
   "metadata": {},
   "source": [
    "## Delete List Elements\n",
    "To remove a list element, you can use either the del statement if you know exactly which element(s) you are deleting or the remove() method if you do not know. For example −"
   ]
  },
  {
   "cell_type": "code",
   "execution_count": 2,
   "metadata": {},
   "outputs": [
    {
     "name": "stdout",
     "output_type": "stream",
     "text": [
      "['physics', 'chemistry', 1997, 2000]\n",
      "After deleting value at index 2 : \n",
      "['physics', 'chemistry', 2000]\n"
     ]
    }
   ],
   "source": [
    "list1 = ['physics', 'chemistry', 1997, 2000];\n",
    "print(list1)\n",
    "del list1[2]\n",
    "print(\"After deleting value at index 2 : \")\n",
    "print(list1)"
   ]
  },
  {
   "cell_type": "markdown",
   "metadata": {},
   "source": [
    "## Basic List Operations\n",
    "Lists respond to the + and * operators much like strings; they mean concatenation and repetition here too, except that the result is a new list, not a string.\n",
    "In fact, lists respond to all of the general sequence operations we used on strings in the prior chapter.\n",
    "\n",
    "<img src=\"pic18.png\">"
   ]
  },
  {
   "cell_type": "markdown",
   "metadata": {},
   "source": [
    "## Indexing, Slicing, and Matrixes\n",
    "Because lists are sequences, indexing and slicing work the same way for lists as they do for strings.\n",
    "Assuming following input − L = ['spam', 'Spam', 'SPAM!']\n",
    "\n",
    "<img src=\"pic19.png\">"
   ]
  },
  {
   "cell_type": "markdown",
   "metadata": {},
   "source": [
    "## Built-in List Functions & Methods\n",
    "Python includes the following list functions −\n",
    "\n",
    "<img src=\"pic20.png\">\n",
    "\n",
    "<img src=\"pic21.png\">"
   ]
  },
  {
   "cell_type": "code",
   "execution_count": 13,
   "metadata": {},
   "outputs": [
    {
     "name": "stdout",
     "output_type": "stream",
     "text": [
      "Updated List :  [123, 'xyz', 'zara', 'abc', 2009]\n"
     ]
    }
   ],
   "source": [
    "aList = [123, 'xyz', 'zara', 'abc'];\n",
    "aList.append( 2009 );\n",
    "print(\"Updated List : \", aList)"
   ]
  },
  {
   "cell_type": "code",
   "execution_count": 14,
   "metadata": {},
   "outputs": [
    {
     "name": "stdout",
     "output_type": "stream",
     "text": [
      "Updated List :  ['xyz', 'zara', 'abc', 2009]\n"
     ]
    }
   ],
   "source": [
    "aList.remove(123)\n",
    "print(\"Updated List : \", aList)"
   ]
  }
 ],
 "metadata": {
  "kernelspec": {
   "display_name": "Python 3",
   "language": "python",
   "name": "python3"
  },
  "language_info": {
   "codemirror_mode": {
    "name": "ipython",
    "version": 3
   },
   "file_extension": ".py",
   "mimetype": "text/x-python",
   "name": "python",
   "nbconvert_exporter": "python",
   "pygments_lexer": "ipython3",
   "version": "3.6.8"
  }
 },
 "nbformat": 4,
 "nbformat_minor": 2
}
